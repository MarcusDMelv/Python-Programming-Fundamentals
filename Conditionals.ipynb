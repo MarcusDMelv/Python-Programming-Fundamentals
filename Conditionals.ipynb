{
 "cells": [
  {
   "cell_type": "code",
   "execution_count": 1,
   "metadata": {
    "collapsed": false
   },
   "outputs": [
   ],
   "source": [
    "# if else elif statements\n",
    "# Allow us to conditionally run code - based on if a condition is true or not"
   ]
  },
  {
   "cell_type": "code",
   "execution_count": 4,
   "metadata": {
    "collapsed": false
   },
   "outputs": [
    {
     "name": "stdout",
     "output_type": "stream",
     "text": [
      "If statement is ran\n"
     ]
    }
   ],
   "source": [
    "if True:\n",
    "    print('If statement is ran')"
   ]
  },
  {
   "cell_type": "code",
   "execution_count": 22,
   "metadata": {
    "cocalc": {
     "outputs": {
      "0": {
       "name": "input",
       "opts": {
        "password": false,
        "prompt": "Enter a number: "
       },
       "output_type": "stream",
       "value": "6"
      }
     }
    },
    "collapsed": false
   },
   "outputs": [
    {
     "name": "stdout",
     "output_type": "stream",
     "text": "Enter a number:  6"
    },
    {
     "name": "stdout",
     "output_type": "stream",
     "text": [
      "Oh no!\n"
     ]
    }
   ],
   "source": [
    "# write multiple if statements\n",
    "\n",
    "number = int(input('Enter a number: '))\n",
    "if number < 5:\n",
    "    print('Awesome!')\n",
    "\n",
    "if number >= 5:\n",
    "    print('Oh no!')"
   ]
  },
  {
   "cell_type": "code",
   "execution_count": 10,
   "metadata": {
    "cocalc": {
     "outputs": {
      "0": {
       "name": "input",
       "opts": {
        "password": false,
        "prompt": "Name: "
       },
       "output_type": "stream",
       "value": "Jeff"
      }
     }
    },
    "collapsed": false
   },
   "outputs": [
    {
     "name": "stdout",
     "output_type": "stream",
     "text": "Name:  Jeff"
    },
    {
     "name": "stdout",
     "output_type": "stream",
     "text": [
      "Welcome Jeff\n"
     ]
    }
   ],
   "source": [
    "# Using if and else statement\n",
    "name = input('Name: ')\n",
    "# run code if name equals something specific else do something else!\n",
    "first_letter = name[0]  # grab first char in name\n",
    "if first_letter.lower() == 'm': # create a condition\n",
    "    print(first_letter.upper())\n",
    "    print('Your name starts with an M!')\n",
    "else:  # if condition is not True else conditional is ran\n",
    "    print(f'Welcome {name}')"
   ]
  },
  {
   "cell_type": "code",
   "execution_count": 23,
   "metadata": {
    "cocalc": {
     "outputs": {
      "0": {
       "name": "input",
       "opts": {
        "password": false,
        "prompt": "Enter a number less then 5: "
       },
       "output_type": "stream",
       "value": "44"
      }
     }
    },
    "collapsed": false
   },
   "outputs": [
    {
     "name": "stdout",
     "output_type": "stream",
     "text": "Enter a number less then 5:  44"
    },
    {
     "name": "stdout",
     "output_type": "stream",
     "text": [
      "Wow you picked 44.0 follow simple instructions buddy\n",
      "Finsihed\n"
     ]
    }
   ],
   "source": [
    "number = float(input('Enter a number less then 5: '))\n",
    "if number < 5:\n",
    "    print('Nice your number is less then 5')\n",
    "else:\n",
    "    print(f'Wow you picked {number} follow simple instructions buddy')\n",
    "\n",
    "print('Finsihed')  # print is not part of the if and else statement this syntax is ran no matter what"
   ]
  },
  {
   "cell_type": "code",
   "execution_count": 24,
   "metadata": {
    "cocalc": {
     "outputs": {
      "0": {
       "name": "input",
       "opts": {
        "password": false,
        "prompt": "Enter a number: "
       },
       "output_type": "stream",
       "value": "33"
      }
     }
    },
    "collapsed": false
   },
   "outputs": [
    {
     "name": "stdout",
     "output_type": "stream",
     "text": "Enter a number:  33"
    },
    {
     "name": "stdout",
     "output_type": "stream",
     "text": [
      "Oh no!\n"
     ]
    }
   ],
   "source": [
    "# elif - allows the if statement to be extended and check multiple things in the same if statement\n",
    "\n",
    "number = int(input('Enter a number: '))\n",
    "if number < 0:\n",
    "    print('This is a negative number!')\n",
    "elif number < 10:  # additional check\n",
    "    print('This is less then 10')\n",
    "else:  # if statement and elif statement is not true run else statement\n",
    "    print('Oh no!')"
   ]
  },
  {
   "cell_type": "code",
   "execution_count": 25,
   "metadata": {
    "cocalc": {
     "outputs": {
      "0": {
       "name": "input",
       "opts": {
        "password": false,
        "prompt": "Enter a number: "
       },
       "output_type": "stream",
       "value": "33"
      }
     }
    },
    "collapsed": false
   },
   "outputs": [
    {
     "name": "stdout",
     "output_type": "stream",
     "text": "Enter a number:  33"
    },
    {
     "name": "stdout",
     "output_type": "stream",
     "text": [
      "This number is less then 40\n"
     ]
    }
   ],
   "source": [
    "# multiple elif's\n",
    "number = int(input('Enter a number: '))\n",
    "if number < 0:\n",
    "    print('This is a negative number!')\n",
    "elif number < 10:  # additional check\n",
    "    print('This is less then 10')\n",
    "elif number < 20:\n",
    "    print('This is less then 20')\n",
    "elif number < 30:\n",
    "    print('This number is less then 30')\n",
    "elif number < 40:\n",
    "    print('This number is less then 40')\n",
    "else:  # if statement and elif statements is not true run else statement\n",
    "    print('Oh no!')"
   ]
  },
  {
   "cell_type": "code",
   "execution_count": 26,
   "metadata": {
    "cocalc": {
     "outputs": {
      "0": {
       "name": "input",
       "opts": {
        "password": false,
        "prompt": "Enter a number: "
       },
       "output_type": "stream",
       "value": "4"
      }
     }
    },
    "collapsed": false
   },
   "outputs": [
    {
     "name": "stdout",
     "output_type": "stream",
     "text": "Enter a number:  4"
    },
    {
     "name": "stdout",
     "output_type": "stream",
     "text": [
      "This is a postive even number\n"
     ]
    }
   ],
   "source": [
    "# writing if statments with compound conditions\n",
    "number = float(input('Enter a number: '))\n",
    "if number > 0 and number % 2 == 0:  # using mod 2 will indicate if a number is even or odd - no remainder means it is even\n",
    "    print('This is a postive even number')"
   ]
  },
  {
   "cell_type": "code",
   "execution_count": 29,
   "metadata": {
    "cocalc": {
     "outputs": {
      "0": {
       "name": "input",
       "opts": {
        "password": false,
        "prompt": "Enter a number: "
       },
       "output_type": "stream",
       "value": "8"
      },
      "2": {
       "name": "input",
       "opts": {
        "password": false,
        "prompt": "Enter a number: "
       },
       "output_type": "stream",
       "value": "-4"
      }
     }
    },
    "collapsed": false
   },
   "outputs": [
    {
     "name": "stdout",
     "output_type": "stream",
     "text": "Enter a number:  8"
    },
    {
     "name": "stdout",
     "output_type": "stream",
     "text": [
      "This is a even number\n"
     ]
    },
    {
     "name": "stdout",
     "output_type": "stream",
     "text": "Enter a number:  -4"
    },
    {
     "name": "stdout",
     "output_type": "stream",
     "text": [
      "This is a negative number\n"
     ]
    }
   ],
   "source": [
    "# nest if statements\n",
    "\n",
    "number = float(input('Enter a number: '))\n",
    "if number > 0 and number % 2 == 0:\n",
    "    print('This is a even number')\n",
    "    \n",
    "    # nested if statement ran only if first if statement is true\n",
    "    number2 = float(input('Enter a number: '))\n",
    "    if number2 < 0:  # make sure your using correct variable\n",
    "        print('This is a negative number')\n",
    "    else:  # can run else inside a nested if statement\n",
    "        print('This is a postive number')"
   ]
  },
  {
   "cell_type": "code",
   "execution_count": 30,
   "metadata": {
    "collapsed": false
   },
   "outputs": [
    {
     "name": "stdout",
     "output_type": "stream",
     "text": [
      "Not Ok\n"
     ]
    }
   ],
   "source": [
    "# how to write inline if statement\n",
    "x = 5\n",
    "\n",
    "result = 'Ok' if x > 5 else 'Not Ok'  # this is a online if statement\n",
    "# if condition is True print 'Ok' else print 'Not Ok'\n",
    "print(result)"
   ]
  },
  {
   "cell_type": "code",
   "execution_count": 32,
   "metadata": {
    "collapsed": false
   },
   "outputs": [
    {
     "name": "stdout",
     "output_type": "stream",
     "text": [
      "Ok\n"
     ]
    }
   ],
   "source": [
    "# Another way to write inline statements\n",
    "x = 10\n",
    "print('Ok') if x >= 10 else print('Not Ok')"
   ]
  },
  {
   "cell_type": "code",
   "execution_count": 0,
   "metadata": {
    "collapsed": false
   },
   "outputs": [
   ],
   "source": [
   ]
  }
 ],
 "metadata": {
  "kernelspec": {
   "display_name": "Python 3 (system-wide)",
   "language": "python",
   "metadata": {
    "cocalc": {
     "description": "Python 3 programming language",
     "priority": 100,
     "url": "https://www.python.org/"
    }
   },
   "name": "python3",
   "resource_dir": "/ext/jupyter/kernels/python3"
  },
  "language_info": {
   "codemirror_mode": {
    "name": "ipython",
    "version": 3
   },
   "file_extension": ".py",
   "mimetype": "text/x-python",
   "name": "python",
   "nbconvert_exporter": "python",
   "pygments_lexer": "ipython3",
   "version": "3.8.10"
  }
 },
 "nbformat": 4,
 "nbformat_minor": 4
}