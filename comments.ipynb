{
 "cells": [
  {
   "cell_type": "code",
   "execution_count": 0,
   "metadata": {
    "collapsed": false
   },
   "outputs": [
   ],
   "source": [
    "# Comments are part of the script but not ran\n",
    "# used to explain the code to better understand what is wrote\n",
    "# clarrify / simplify code for other programmers\n",
    "# single line comment\n",
    "# have space between pund sign and comment\n",
    "# leave two spaces between syntax and comment\n",
    "print('Hello')  # comment here\n",
    "\n",
    "\"\"\"\n",
    "Multiline Comment\n",
    "Write anything here!\n",
    "\n",
    "See!!\n",
    "\n",
    "\"\"\"\n",
    "\n",
    "# when to use comment - used to explain syntax not the obvious\n",
    "\n",
    "print('Hello World')  # this prints hello world\n",
    "\n",
    "\"\"\"\n",
    "Code will be read by other programmers\n",
    "\n",
    "\n",
    "\"\"\"\n"
   ]
  }
 ],
 "metadata": {
  "kernelspec": {
   "display_name": "Python 3 (system-wide)",
   "language": "python",
   "metadata": {
    "cocalc": {
     "description": "Python 3 programming language",
     "priority": 100,
     "url": "https://www.python.org/"
    }
   },
   "name": "python3",
   "resource_dir": "/ext/jupyter/kernels/python3"
  }
 },
 "nbformat": 4,
 "nbformat_minor": 4
}