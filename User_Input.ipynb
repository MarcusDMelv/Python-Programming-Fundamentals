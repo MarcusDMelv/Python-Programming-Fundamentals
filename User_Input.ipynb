{
 "cells": [
  {
   "cell_type": "code",
   "execution_count": 1,
   "metadata": {
    "cocalc": {
     "outputs": {
      "0": {
       "name": "input",
       "opts": {
        "password": false,
        "prompt": "Number:\n"
       },
       "output_type": "stream",
       "value": "3"
      }
     }
    },
    "collapsed": false
   },
   "outputs": [
    {
     "name": "stdout",
     "output_type": "stream",
     "text": "Number:\n 3"
    },
    {
     "data": {
      "text/plain": [
       "'3'"
      ]
     },
     "execution_count": 1,
     "metadata": {
     },
     "output_type": "execute_result"
    }
   ],
   "source": [
    "# Allowing the user to type something in console and capture it as a value some how\n",
    "input('Number:\\n')  # takes a prompt prints the prompt out and allows user to input a value"
   ]
  },
  {
   "cell_type": "code",
   "execution_count": 4,
   "metadata": {
    "cocalc": {
     "outputs": {
      "0": {
       "name": "input",
       "opts": {
        "password": false,
        "prompt": "Number:\n"
       },
       "output_type": "stream",
       "value": "5"
      }
     }
    },
    "collapsed": false
   },
   "outputs": [
    {
     "name": "stdout",
     "output_type": "stream",
     "text": "Number:\n 5"
    },
    {
     "name": "stdout",
     "output_type": "stream",
     "text": [
      "5\n"
     ]
    }
   ],
   "source": [
    "# input is finish once user press Enter\n",
    "# Allows us to store it in a variable\n",
    "x = input('Number:\\n')\n",
    "print(x)  # output users input"
   ]
  },
  {
   "cell_type": "code",
   "execution_count": 5,
   "metadata": {
    "cocalc": {
     "outputs": {
      "0": {
       "name": "input",
       "opts": {
        "password": false,
        "prompt": "Users name:\n"
       },
       "output_type": "stream",
       "value": "Kelly"
      }
     }
    },
    "collapsed": false
   },
   "outputs": [
    {
     "name": "stdout",
     "output_type": "stream",
     "text": "Users name:\n Kelly"
    },
    {
     "name": "stdout",
     "output_type": "stream",
     "text": [
      "Hello Kelly\n"
     ]
    }
   ],
   "source": [
    "name = input('Users name:\\n') # whatever you type in the output will be a string\n",
    "print(f'Hello {name}')  # greet users by their name"
   ]
  },
  {
   "cell_type": "code",
   "execution_count": 7,
   "metadata": {
    "collapsed": false
   },
   "outputs": [
    {
     "name": "stdout",
     "output_type": "stream",
     "text": [
      "5\n",
      "<class 'str'>\n"
     ]
    }
   ],
   "source": [
    "print(x)\n",
    "print(type(x)) # need to convert into a interger"
   ]
  },
  {
   "cell_type": "code",
   "execution_count": 12,
   "metadata": {
    "cocalc": {
     "outputs": {
      "0": {
       "name": "input",
       "opts": {
        "password": false,
        "prompt": "Press enter to begin!"
       },
       "output_type": "stream",
       "value": ""
      },
      "1": {
       "name": "input",
       "opts": {
        "password": false,
        "prompt": "Enter name: \n"
       },
       "output_type": "stream",
       "value": "Larry"
      },
      "2": {
       "name": "input",
       "opts": {
        "password": false,
        "prompt": "Hello Larry what is your age:\n"
       },
       "output_type": "stream",
       "value": "29"
      }
     }
    },
    "collapsed": false
   },
   "outputs": [
    {
     "name": "stdout",
     "output_type": "stream",
     "text": "Press enter to begin! "
    },
    {
     "name": "stdout",
     "output_type": "stream",
     "text": "Enter name: \n Larry"
    },
    {
     "name": "stdout",
     "output_type": "stream",
     "text": "Hello Larry what is your age:\n 29"
    },
    {
     "name": "stdout",
     "output_type": "stream",
     "text": [
      "Hello Larry you are 29!\n"
     ]
    }
   ],
   "source": [
    "# multiple input statements\n",
    "input('Press enter to begin!')\n",
    "\n",
    "name = input('Enter name: \\n')\n",
    "\n",
    "age = int(input(f'Hello {name} what is your age:\\n')) # wrap input() in int() function to convert into an int and not a string\n",
    "\n",
    "print(f'Hello {name} you are {age}!')"
   ]
  },
  {
   "cell_type": "code",
   "execution_count": 13,
   "metadata": {
    "collapsed": false
   },
   "outputs": [
    {
     "name": "stdout",
     "output_type": "stream",
     "text": [
      "<class 'str'>\n",
      "<class 'int'>\n"
     ]
    }
   ],
   "source": [
    "print(type(name))\n",
    "print(type(age))"
   ]
  },
  {
   "cell_type": "code",
   "execution_count": 0,
   "metadata": {
    "collapsed": false
   },
   "outputs": [
   ],
   "source": [
   ]
  }
 ],
 "metadata": {
  "kernelspec": {
   "display_name": "Python 3 (system-wide)",
   "language": "python",
   "metadata": {
    "cocalc": {
     "description": "Python 3 programming language",
     "priority": 100,
     "url": "https://www.python.org/"
    }
   },
   "name": "python3",
   "resource_dir": "/ext/jupyter/kernels/python3"
  },
  "language_info": {
   "codemirror_mode": {
    "name": "ipython",
    "version": 3
   },
   "file_extension": ".py",
   "mimetype": "text/x-python",
   "name": "python",
   "nbconvert_exporter": "python",
   "pygments_lexer": "ipython3",
   "version": "3.8.10"
  }
 },
 "nbformat": 4,
 "nbformat_minor": 4
}