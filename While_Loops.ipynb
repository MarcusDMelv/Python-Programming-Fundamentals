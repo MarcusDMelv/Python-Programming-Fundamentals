{
 "cells": [
  {
   "cell_type": "code",
   "execution_count": 2,
   "metadata": {
    "collapsed": false
   },
   "outputs": [
    {
     "name": "stdout",
     "output_type": "stream",
     "text": [
      "1\n",
      "2\n",
      "3\n",
      "4\n",
      "5\n"
     ]
    }
   ],
   "source": [
    "# Does the same things as for loops but will loop while a condition is True\n",
    "# Loop until something becomes False\n",
    "# the use case of a while loop instead of a for loop - not sure how many times you need the program to loop\n",
    "\n",
    "\n",
    "x = 0\n",
    "while x < 5:  # some type of condition ( must be True or False)\n",
    "    # block of code while condition is True\n",
    "    x += 1\n",
    "    print(x)"
   ]
  },
  {
   "cell_type": "code",
   "execution_count": 7,
   "metadata": {
    "cocalc": {
     "outputs": {
      "0": {
       "name": "input",
       "opts": {
        "password": false,
        "prompt": "Enter a integer:"
       },
       "output_type": "stream",
       "value": "4r"
      },
      "1": {
       "name": "input",
       "opts": {
        "password": false,
        "prompt": "Enter a integer:"
       },
       "output_type": "stream",
       "value": "re"
      },
      "2": {
       "name": "input",
       "opts": {
        "password": false,
        "prompt": "Enter a integer:"
       },
       "output_type": "stream"
      }
     }
    },
    "collapsed": false
   },
   "outputs": [
    {
     "name": "stdout",
     "output_type": "stream",
     "text": "Enter a integer: 4r"
    },
    {
     "name": "stdout",
     "output_type": "stream",
     "text": "Enter a integer: re"
    },
    {
     "name": "stdout",
     "output_type": "stream",
     "text": "Enter a integer: "
    },
    {
     "name": "stdout",
     "output_type": "stream",
     "text": [
      " re is not a integer!\n"
     ],
     "value": "4"
    },
    {
     "name": "stdout",
     "output_type": "stream",
     "text": [
      "4\n"
     ]
    }
   ],
   "source": [
    "# Example of using a while loop - Asking user to enter a specific value\n",
    "\n",
    "num = input('Enter a integer:')\n",
    "\n",
    "while not num.isdigit():  # if num is not a digit run block of code\n",
    "    num = input('Enter a integer:')\n",
    "\n",
    "    if not num.isdigit():  # if num is still not a digit help user out and run while loop again\n",
    "        print(f' {num} is not a integer!')\n",
    "\n",
    "print(num)  # print num ( outside of while loop)"
   ]
  },
  {
   "cell_type": "code",
   "execution_count": 8,
   "metadata": {
    "cocalc": {
     "outputs": {
      "0": {
       "name": "input",
       "opts": {
        "password": false,
        "prompt": "Enter a integer:"
       },
       "output_type": "stream",
       "value": "45r"
      },
      "2": {
       "name": "input",
       "opts": {
        "password": false,
        "prompt": "Enter a integer:"
       },
       "output_type": "stream",
       "value": "4"
      }
     }
    },
    "collapsed": false
   },
   "outputs": [
    {
     "name": "stdout",
     "output_type": "stream",
     "text": "Enter a integer: 45r"
    },
    {
     "name": "stdout",
     "output_type": "stream",
     "text": [
      "45r is not a integer!\n"
     ]
    },
    {
     "name": "stdout",
     "output_type": "stream",
     "text": "Enter a integer: 4"
    },
    {
     "name": "stdout",
     "output_type": "stream",
     "text": [
      "4\n"
     ]
    }
   ],
   "source": [
    "# Rewrite code so you dont have repeated syntax\n",
    "\n",
    "while True:  # start off while loop as True - becareful of infinite while loop\n",
    "    num = input('Enter a integer:')\n",
    "\n",
    "    if num.isdigit():  # if num is still not a digit help user out and run while loop again\n",
    "       break  # end loop if num is a digit\n",
    "    else:\n",
    "        print(f'{num} is not a integer!')\n",
    "\n",
    "print(num)  # print num ( outside of while loop)"
   ]
  },
  {
   "cell_type": "code",
   "execution_count": 13,
   "metadata": {
    "collapsed": false
   },
   "outputs": [
    {
     "name": "stdout",
     "output_type": "stream",
     "text": [
      "1\n",
      "2\n",
      "3\n",
      "4\n"
     ]
    }
   ],
   "source": [
    "# Using a while loop to loop through a list \n",
    "# add the each number in the list until the sum is greater the 9\n",
    "\n",
    "lst = list(range(1,11))\n",
    "\n",
    "i = 0  # index holder\n",
    "result = 0  # hold the sum\n",
    "\n",
    "while result < 9 and i < len(lst):  # iterate through list until result is greater then 9 and while the index is less then the length of the list\n",
    "    num = lst[i]  # hold the number in the list through each iteration\n",
    "    result += num  # will hold and add the sum of the numbers while iterating\n",
    "    i += 1  # add 1 to the index to iterate through the list\n",
    "    print(num)"
   ]
  },
  {
   "cell_type": "code",
   "execution_count": 4,
   "metadata": {
    "collapsed": false
   },
   "outputs": [
    {
     "name": "stdout",
     "output_type": "stream",
     "text": [
      "Did not find the number -2 in the list\n"
     ]
    }
   ],
   "source": [
    "# Using the While Else statement\n",
    "\n",
    "lst = list(range(1,11))\n",
    "i = 0  # loop counter\n",
    "find = -2  # searching for this number\n",
    "\n",
    "# say if we didnt find what we was looking for break out the while loop using an else statement\n",
    "\n",
    "while i < len(lst):\n",
    "    if lst[i] == find:\n",
    "        print(f'Found the number {find}')\n",
    "        break\n",
    "    i += 1 # must increment i or else we will have an infinite loop\n",
    "else:\n",
    "    print(f'Did not find the number {find} in the list')\n"
   ]
  },
  {
   "cell_type": "code",
   "execution_count": 0,
   "metadata": {
    "collapsed": false
   },
   "outputs": [
   ],
   "source": [
   ]
  }
 ],
 "metadata": {
  "kernelspec": {
   "display_name": "Python 3 (system-wide)",
   "language": "python",
   "metadata": {
    "cocalc": {
     "description": "Python 3 programming language",
     "priority": 100,
     "url": "https://www.python.org/"
    }
   },
   "name": "python3",
   "resource_dir": "/ext/jupyter/kernels/python3"
  },
  "language_info": {
   "codemirror_mode": {
    "name": "ipython",
    "version": 3
   },
   "file_extension": ".py",
   "mimetype": "text/x-python",
   "name": "python",
   "nbconvert_exporter": "python",
   "pygments_lexer": "ipython3",
   "version": "3.8.10"
  }
 },
 "nbformat": 4,
 "nbformat_minor": 4
}