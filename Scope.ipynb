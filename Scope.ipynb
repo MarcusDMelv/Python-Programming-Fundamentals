{
 "cells": [
  {
   "cell_type": "code",
   "execution_count": 2,
   "metadata": {
    "collapsed": false
   },
   "outputs": [
    {
     "ename": "NameError",
     "evalue": "name 'x' is not defined",
     "output_type": "error",
     "traceback": [
      "\u001b[0;31m---------------------------------------------------------------------------\u001b[0m",
      "\u001b[0;31mNameError\u001b[0m                                 Traceback (most recent call last)",
      "\u001b[0;32m/tmp/ipykernel_376/2133919892.py\u001b[0m in \u001b[0;36m<cell line: 7>\u001b[0;34m()\u001b[0m\n\u001b[1;32m      5\u001b[0m \u001b[0;34m\u001b[0m\u001b[0m\n\u001b[1;32m      6\u001b[0m \u001b[0mfoo\u001b[0m\u001b[0;34m(\u001b[0m\u001b[0;34m)\u001b[0m\u001b[0;34m\u001b[0m\u001b[0;34m\u001b[0m\u001b[0m\n\u001b[0;32m----> 7\u001b[0;31m \u001b[0mprint\u001b[0m\u001b[0;34m(\u001b[0m\u001b[0mx\u001b[0m\u001b[0;34m)\u001b[0m  \u001b[0;31m# x was defined in the function\u001b[0m\u001b[0;34m\u001b[0m\u001b[0;34m\u001b[0m\u001b[0m\n\u001b[0m",
      "\u001b[0;31mNameError\u001b[0m: name 'x' is not defined"
     ]
    }
   ],
   "source": [
    "# where specfic variables and values are accessible from\n",
    "# things defined in function are not accessible out side of function\n",
    "def foo():\n",
    "    x = 0\n",
    "    \n",
    "foo()\n",
    "print(x)  # x was defined in the function\n",
    "# x is only available in the function"
   ]
  },
  {
   "cell_type": "code",
   "execution_count": 3,
   "metadata": {
    "collapsed": false
   },
   "outputs": [
    {
     "name": "stdout",
     "output_type": "stream",
     "text": [
      "1\n"
     ]
    }
   ],
   "source": [
    "x = 1  # this x is global\n",
    "def foo():\n",
    "    x = 0  # this x is local to the function\n",
    "    \n",
    "print(x)"
   ]
  },
  {
   "cell_type": "code",
   "execution_count": 5,
   "metadata": {
    "collapsed": false
   },
   "outputs": [
    {
     "name": "stdout",
     "output_type": "stream",
     "text": [
      "1\n"
     ]
    }
   ],
   "source": [
    "# function looks for local variable if no local variable then looks for global variable\n",
    "# anything defined in function is not accessible outside of the function\n",
    "# anything outside of the function is accessible inside the function\n",
    "\n",
    "x = 1\n",
    "def foo():\n",
    "    print(x)\n",
    "\n",
    "foo()"
   ]
  },
  {
   "cell_type": "code",
   "execution_count": 6,
   "metadata": {
    "cocalc": {
     "outputs": {
      "0": {
       "name": "input",
       "opts": {
        "password": false,
        "prompt": "Enter a number"
       },
       "output_type": "stream",
       "value": "3"
      }
     }
    },
    "collapsed": false
   },
   "outputs": [
    {
     "name": "stdout",
     "output_type": "stream",
     "text": "Enter a number 3"
    },
    {
     "ename": "NameError",
     "evalue": "name 'value' is not defined",
     "output_type": "error",
     "traceback": [
      "\u001b[0;31m---------------------------------------------------------------------------\u001b[0m",
      "\u001b[0;31mNameError\u001b[0m                                 Traceback (most recent call last)",
      "\u001b[0;32m/tmp/ipykernel_376/4140331014.py\u001b[0m in \u001b[0;36m<cell line: 6>\u001b[0;34m()\u001b[0m\n\u001b[1;32m      4\u001b[0m \u001b[0;32mif\u001b[0m \u001b[0minp\u001b[0m\u001b[0;34m>\u001b[0m \u001b[0;36m5\u001b[0m\u001b[0;34m:\u001b[0m\u001b[0;34m\u001b[0m\u001b[0;34m\u001b[0m\u001b[0m\n\u001b[1;32m      5\u001b[0m     \u001b[0mvalue\u001b[0m \u001b[0;34m=\u001b[0m \u001b[0;34m'Greater than 5!'\u001b[0m\u001b[0;34m\u001b[0m\u001b[0;34m\u001b[0m\u001b[0m\n\u001b[0;32m----> 6\u001b[0;31m \u001b[0mprint\u001b[0m\u001b[0;34m(\u001b[0m\u001b[0mvalue\u001b[0m\u001b[0;34m)\u001b[0m\u001b[0;34m\u001b[0m\u001b[0;34m\u001b[0m\u001b[0m\n\u001b[0m",
      "\u001b[0;31mNameError\u001b[0m: name 'value' is not defined"
     ]
    }
   ],
   "source": [
    "# block scope - variables defined in a if statement or a for loop etc \n",
    "\n",
    "inp = int(input('Enter a number'))\n",
    "if inp> 5:\n",
    "    value = 'Greater than 5!'  \n",
    "print(value)  # not able to print because the if statement was never initated so value was not creatd\n"
   ]
  },
  {
   "cell_type": "code",
   "execution_count": 7,
   "metadata": {
    "cocalc": {
     "outputs": {
      "0": {
       "name": "input",
       "opts": {
        "password": false,
        "prompt": "Enter a number"
       },
       "output_type": "stream",
       "value": "3"
      }
     }
    },
    "collapsed": false
   },
   "outputs": [
    {
     "name": "stdout",
     "output_type": "stream",
     "text": "Enter a number 3"
    },
    {
     "name": "stdout",
     "output_type": "stream",
     "text": [
      " Not Greater then 5!\n"
     ]
    }
   ],
   "source": [
    "# block scope - variables defined in a if statement or a for loop etc \n",
    "\n",
    "inp = int(input('Enter a number'))\n",
    "if inp> 5:\n",
    "    value = 'Greater than 5!'  \n",
    "else:\n",
    "    value = ' Not Greater then 5!'\n",
    "    \n",
    "print(value)\n"
   ]
  },
  {
   "cell_type": "code",
   "execution_count": 9,
   "metadata": {
    "cocalc": {
     "outputs": {
      "0": {
       "name": "input",
       "opts": {
        "password": false,
        "prompt": "Enter a number"
       },
       "output_type": "stream",
       "value": "5"
      }
     }
    },
    "collapsed": false
   },
   "outputs": [
    {
     "name": "stdout",
     "output_type": "stream",
     "text": "Enter a number 5"
    },
    {
     "name": "stdout",
     "output_type": "stream",
     "text": [
      " Not Greater then 5!\n"
     ]
    }
   ],
   "source": [
    "\n",
    "def foo():\n",
    "    if inp> 5:\n",
    "        value = 'Greater than 5!'  \n",
    "    else:\n",
    "        value = ' Not Greater then 5!'\n",
    "        \n",
    "inp = int(input('Enter a number'))\n",
    "foo()\n",
    "\n",
    "print(value)"
   ]
  },
  {
   "cell_type": "code",
   "execution_count": 10,
   "metadata": {
    "collapsed": false
   },
   "outputs": [
    {
     "name": "stdout",
     "output_type": "stream",
     "text": [
      "10\n",
      "15\n",
      "10\n"
     ]
    }
   ],
   "source": [
    "def add_5(x):\n",
    "    x = x+5\n",
    "    print(x)\n",
    "    \n",
    "x = 10\n",
    "print(x)  # printed x in global scope\n",
    "add_5(x)  # printed x in function local scope\n",
    "print(x)"
   ]
  },
  {
   "cell_type": "code",
   "execution_count": 11,
   "metadata": {
    "collapsed": false
   },
   "outputs": [
    {
     "name": "stdout",
     "output_type": "stream",
     "text": [
      "[]\n",
      "[5]\n",
      "[5]\n"
     ]
    }
   ],
   "source": [
    "# x is mutable in and outside of function \n",
    "def append_5(x):\n",
    "    x.append(5)\n",
    "    print(x)\n",
    "    \n",
    "x = list()\n",
    "print(x)\n",
    "append_5(x)\n",
    "print(x)"
   ]
  },
  {
   "cell_type": "code",
   "execution_count": 13,
   "metadata": {
    "collapsed": false
   },
   "outputs": [
    {
     "name": "stdout",
     "output_type": "stream",
     "text": [
      "5\n",
      "10\n",
      "10\n",
      "10\n",
      "10\n"
     ]
    }
   ],
   "source": [
    "# global keyword is considered bad practice - should be avoided at ALL times! :(\n",
    "# why avoid global keyword? - now we introduced the side effect into our code - changing something outside of an function everytime it is ran\n",
    "\n",
    "value = 5\n",
    "\n",
    "def foo():\n",
    "    global value  # global keyword will change the variable into a global variable\n",
    "    # now the variable outside of the function will be modified\n",
    "    value = 10\n",
    "    print(value)\n",
    "    \n",
    "print(value)\n",
    "foo()\n",
    "print(value)\n",
    "\n",
    "value = 20\n",
    "foo()\n",
    "print(value)"
   ]
  },
  {
   "cell_type": "code",
   "execution_count": 0,
   "metadata": {
    "collapsed": false
   },
   "outputs": [
   ],
   "source": [
   ]
  }
 ],
 "metadata": {
  "kernelspec": {
   "display_name": "Python 3 (system-wide)",
   "language": "python",
   "metadata": {
    "cocalc": {
     "description": "Python 3 programming language",
     "priority": 100,
     "url": "https://www.python.org/"
    }
   },
   "name": "python3",
   "resource_dir": "/ext/jupyter/kernels/python3"
  },
  "language_info": {
   "codemirror_mode": {
    "name": "ipython",
    "version": 3
   },
   "file_extension": ".py",
   "mimetype": "text/x-python",
   "name": "python",
   "nbconvert_exporter": "python",
   "pygments_lexer": "ipython3",
   "version": "3.8.10"
  }
 },
 "nbformat": 4,
 "nbformat_minor": 4
}