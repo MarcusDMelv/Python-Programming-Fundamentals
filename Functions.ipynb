{
 "cells": [
  {
   "cell_type": "code",
   "execution_count": 1,
   "metadata": {
    "collapsed": false
   },
   "outputs": [
   ],
   "source": [
    "# a reusable block of code\n",
    "# call a function multiple times\n",
    "# some function take arguments - need to pass values in them\n",
    "# some functions return values to us\n",
    "# a function does one thing and one thing very well\n",
    "# python has built in functions - len() / int() / print() / input() - these takes arguments"
   ]
  },
  {
   "cell_type": "code",
   "execution_count": 3,
   "metadata": {
    "collapsed": false
   },
   "outputs": [
    {
     "name": "stdout",
     "output_type": "stream",
     "text": [
      "hello\n",
      "world\n"
     ]
    }
   ],
   "source": [
    "# make our ow function\n",
    "# name can;t start with number / underscore / special char\n",
    "def print_value(value):  # def = define || (value) is an argument - parameters ()\n",
    "    print(value)  # the body of the function is indented\n",
    "\n",
    "def print_hello():\n",
    "    print('world')\n",
    "\n",
    "# how to call a function\n",
    "print_value('hello')  # function takes parameters - pass an argument 'hello'\n",
    "\n",
    "print_hello()  # takes no parameters"
   ]
  },
  {
   "cell_type": "code",
   "execution_count": 7,
   "metadata": {
    "collapsed": false
   },
   "outputs": [
    {
     "name": "stdout",
     "output_type": "stream",
     "text": [
      "15\n",
      "24\n",
      "21\n",
      "16\n"
     ]
    }
   ],
   "source": [
    "# Multiple function parameters\n",
    "def add_five(x,y):\n",
    "    result = x + y + 5\n",
    "    print(result)\n",
    "    \n",
    "def add_six(x,y,z):\n",
    "    result = x + y + z + 6\n",
    "    print(result)\n",
    "    \n",
    "# need to pass 2 arguments\n",
    "add_five(5,5)\n",
    "\n",
    "# need to pass 3 arguments\n",
    "add_six(6,6,6)\n",
    "\n",
    "# able to use variables as an argument\n",
    "\n",
    "x = 4\n",
    "y = 5\n",
    "z = 6\n",
    "\n",
    "add_six(x,y,z)\n",
    "add_five(y,z)"
   ]
  },
  {
   "cell_type": "code",
   "execution_count": 8,
   "metadata": {
    "collapsed": false
   },
   "outputs": [
    {
     "name": "stdout",
     "output_type": "stream",
     "text": [
      "21\n"
     ]
    }
   ],
   "source": [
    "# returning values from a function\n",
    "\n",
    "def add_six(x,y,z):\n",
    "    result = x + y + z + 6\n",
    "    return result  # once return is ran the function stops\n",
    "\n",
    "\n",
    "x = 4\n",
    "y = 5\n",
    "z = 6\n",
    "\n",
    "w = add_six(y,z,x)  # the function can be a variable when the function uses the return value\n",
    "\n",
    "print(w)"
   ]
  },
  {
   "cell_type": "code",
   "execution_count": 16,
   "metadata": {
    "collapsed": false
   },
   "outputs": [
    {
     "name": "stdout",
     "output_type": "stream",
     "text": [
      "Default Values:\n",
      "1\n",
      "2\n",
      "3\n",
      "4\n",
      "5\n",
      "6\n",
      "7\n",
      "8\n",
      "9\n",
      "10\n",
      "\n",
      "One Argument passed for start parameter:\n",
      "5\n",
      "6\n",
      "7\n",
      "8\n",
      "9\n",
      "10\n",
      "\n",
      "Two Arguments passed for both parameters\n",
      "5\n",
      "6\n",
      "7\n",
      "8\n",
      "9\n",
      "10\n",
      "11\n",
      "12\n",
      "13\n",
      "14\n",
      "15\n",
      "16\n",
      "17\n",
      "18\n",
      "19\n",
      "20\n",
      "One Argument passed for stop parameter:\n",
      "1\n",
      "2\n",
      "3\n",
      "4\n",
      "5\n"
     ]
    }
   ],
   "source": [
    "# Optional/Default Parameters - make an parameter have a default value which makes it optional\n",
    "\n",
    "def new_range(start=1,stop=11):  # the parameters have a default value\n",
    "    x = start\n",
    "    while x < stop:\n",
    "        print(x)\n",
    "        x += 1\n",
    "print('Default Values:')\n",
    "new_range()  # since parameters have default value an argument does not need to be passed\n",
    "\n",
    "print('\\nOne Argument passed for start parameter:')\n",
    "new_range(5)  # passed one argument which is the start parameter\n",
    "\n",
    "print('\\nTwo Arguments passed for both parameters')\n",
    "new_range(5,21)  # pass two arguments for both parameters\n",
    "\n",
    "# how to pass an argument for for stop but not start\n",
    "print('One Argument passed for stop parameter:')\n",
    "new_range(stop=6)  # using keyword argument\n",
    "\n",
    "\n",
    "\"\"\"\n",
    "# Rules:\n",
    "- Default parameters must be listed after non default parameters\n",
    "    Example:\n",
    "    def new_range(start,stop,step=1)\n",
    "\n",
    "\"\"\""
   ]
  },
  {
   "cell_type": "code",
   "execution_count": 5,
   "metadata": {
    "collapsed": false
   },
   "outputs": [
    {
     "name": "stdout",
     "output_type": "stream",
     "text": [
      "(2, 3)\n",
      "2\n",
      "3\n"
     ]
    }
   ],
   "source": [
    "# how to return multiple values from a function:\n",
    "def return_values(x,y):\n",
    "    return x + 1 , y + 1\n",
    "\n",
    "result = return_values(1,2)\n",
    "\n",
    "print(result)  # we will get a tuple\n",
    "\n",
    "(x,y) = result  # unpacking a tuple - nothing to do with functions || assigning a variable to the tuple\n",
    "\n",
    "print(x)\n",
    "print(y)"
   ]
  },
  {
   "cell_type": "code",
   "execution_count": 7,
   "metadata": {
    "collapsed": false
   },
   "outputs": [
    {
     "name": "stdout",
     "output_type": "stream",
     "text": [
      "heo word\n"
     ]
    }
   ],
   "source": [
    "# Write a function that takes in two strings\n",
    "\n",
    "def remove_chars(base,chars):\n",
    "    new_string = base  # initiate new_string which is base str\n",
    "    for char in chars:  # iterate through chars\n",
    "        new_string = new_string.replace(char,\"\")  # replace the letters in new_string that match chars with blanks\n",
    "    return new_string  # return the manipulated new_string\n",
    "\n",
    "result = remove_chars('hello world','l')\n",
    "print(result)"
   ]
  },
  {
   "cell_type": "code",
   "execution_count": 14,
   "metadata": {
    "collapsed": false
   },
   "outputs": [
    {
     "name": "stdout",
     "output_type": "stream",
     "text": [
      "315 210\n"
     ]
    }
   ],
   "source": [
    "# accept two list of numbers and give the sum of both list of numbers\n",
    "def total_sum_lists(list1,list2):\n",
    "    list1_sum = sum_list(list1)  # using the sum_list function to add all the numbers in llist 1\n",
    "    list2_sum = sum_list(list2)  # using the sum_list function to add all the numbers in llist 2\n",
    "    \n",
    "    return list1_sum,list2_sum  # return both sums from the list\n",
    "\n",
    "def sum_list(lst):\n",
    "    total = 0\n",
    "    for num in lst:  # loop through a list\n",
    "        total += num  # add the list numbers together\n",
    "        \n",
    "    return total  # return total\n",
    "\n",
    "# generate a list\n",
    "list1 = list(range(5,26))\n",
    "list2 = list(range(1,21))\n",
    "\n",
    "# call functions\n",
    "result = total_sum_lists(list1,list2)\n",
    "\n",
    "# unpack the sum from the function\n",
    "sum1,sum2 = result\n",
    "\n",
    "# output the sums\n",
    "print(sum1,sum2)"
   ]
  },
  {
   "cell_type": "code",
   "execution_count": 15,
   "metadata": {
    "collapsed": false
   },
   "outputs": [
    {
     "name": "stdout",
     "output_type": "stream",
     "text": [
      "315 210\n"
     ]
    }
   ],
   "source": [
    "# Nested Functions - defining a function inside of another function\n",
    "# this code will work exactly the same as long as indention is correct\n",
    "# not able to use nested function outside of the function\n",
    "def total_sum_lists(list1,list2):\n",
    "    def sum_list(lst):\n",
    "        total = 0\n",
    "        for num in lst:  # loop through a list\n",
    "            total += num  # add the list numbers together\n",
    "        \n",
    "        return total  # return total\n",
    "    list1_sum = sum_list(list1)  # using the sum_list function to add all the numbers in llist 1\n",
    "    list2_sum = sum_list(list2)  # using the sum_list function to add all the numbers in llist 2\n",
    "    \n",
    "    return list1_sum,list2_sum  # return both sums from the list\n",
    "\n",
    "# generate a list\n",
    "list1 = list(range(5,26))\n",
    "list2 = list(range(1,21))\n",
    "\n",
    "# call functions\n",
    "result = total_sum_lists(list1,list2)\n",
    "\n",
    "# unpack the sum from the function\n",
    "sum1,sum2 = result\n",
    "\n",
    "# output the sums\n",
    "print(sum1,sum2)"
   ]
  },
  {
   "cell_type": "code",
   "execution_count": 0,
   "metadata": {
    "collapsed": false
   },
   "outputs": [
   ],
   "source": [
   ]
  }
 ],
 "metadata": {
  "kernelspec": {
   "display_name": "Python 3 (system-wide)",
   "language": "python",
   "metadata": {
    "cocalc": {
     "description": "Python 3 programming language",
     "priority": 100,
     "url": "https://www.python.org/"
    }
   },
   "name": "python3",
   "resource_dir": "/ext/jupyter/kernels/python3"
  },
  "language_info": {
   "codemirror_mode": {
    "name": "ipython",
    "version": 3
   },
   "file_extension": ".py",
   "mimetype": "text/x-python",
   "name": "python",
   "nbconvert_exporter": "python",
   "pygments_lexer": "ipython3",
   "version": "3.8.10"
  }
 },
 "nbformat": 4,
 "nbformat_minor": 4
}