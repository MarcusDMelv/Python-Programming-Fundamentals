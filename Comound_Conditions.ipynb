{
 "cells": [
  {
   "cell_type": "code",
   "execution_count": 1,
   "metadata": {
    "collapsed": false
   },
   "outputs": [
   ],
   "source": [
    "# Compound Conditions are conditions that involve multiple conditions \n",
    "# chain conditions - one condition along with a few other conditions\n",
    "# logical operators - allow us to combine/chain condtions together\n"
   ]
  },
  {
   "cell_type": "code",
   "execution_count": 4,
   "metadata": {
    "collapsed": false
   },
   "outputs": [
    {
     "name": "stdout",
     "output_type": "stream",
     "text": [
      "True\n",
      "False\n"
     ]
    }
   ],
   "source": [
    "# using the \"and\" logical operator - Both conditions must be True for compound condition to be True\n",
    "x = 2\n",
    "y = 4\n",
    "\n",
    "# compound condition\n",
    "comp = x < y and y + 2 > 3 and x != y # and is the logical operator - checks to see if both conditions are true\n",
    "comp1 = x > y and y + 2 > 3\n",
    "print(comp) # when both are True then the condition is True\n",
    "print(comp1) # when one condition is False then the compound condition is False"
   ]
  },
  {
   "cell_type": "code",
   "execution_count": 7,
   "metadata": {
    "collapsed": false
   },
   "outputs": [
    {
     "name": "stdout",
     "output_type": "stream",
     "text": [
      "True\n",
      "False\n"
     ]
    }
   ],
   "source": [
    "# using the \"or\" logical operator - one condtion in the compound condition must be True for compound condition to be True\n",
    "x = 2\n",
    "y = 4\n",
    "\n",
    "# compound condition\n",
    "comp = x < y or y + 2 < 3 or x == y # or is the logical operator - checks to see if ANY of the conditions are True\n",
    "comp1 = x > y or y + 2 < 3\n",
    "print(comp) # when one of the conditions is True then the compound condition is True\n",
    "print(comp1) # when none of the conditions is True then the compound condition is False"
   ]
  },
  {
   "cell_type": "code",
   "execution_count": 12,
   "metadata": {
    "collapsed": false
   },
   "outputs": [
    {
     "name": "stdout",
     "output_type": "stream",
     "text": [
      "False\n",
      "True\n",
      "True\n",
      "True\n"
     ]
    }
   ],
   "source": [
    "# using the \"not\" logical operator - swaps whatever the value of the condition is\n",
    "# the not operator give us the oppisite\n",
    "\n",
    "x = 2\n",
    "y = 4\n",
    "\n",
    "# compound condition\n",
    "comp = not (x < y) # so if condition is True then the not logical operator will make it False\n",
    "comp1 = not (1 + x == y)\n",
    "comp2 = not True == False\n",
    "comp3 = False == (not True) # error because the 'not' keyword has a lower precedence than == must wrap (not True)\n",
    "print(comp)\n",
    "print(comp1)\n",
    "print(comp2)\n",
    "print(comp3)"
   ]
  },
  {
   "cell_type": "code",
   "execution_count": 0,
   "metadata": {
    "collapsed": false
   },
   "outputs": [
   ],
   "source": [
    "\"\"\"\n",
    "Other ways to identify logical operators in other languages\n",
    "! - not\n",
    "&& - and\n",
    "|| - or\n",
    "\n",
    "work the exact same way\n",
    "\n",
    "\"\"\""
   ]
  },
  {
   "cell_type": "code",
   "execution_count": 2,
   "metadata": {
    "collapsed": false
   },
   "outputs": [
    {
     "name": "stdout",
     "output_type": "stream",
     "text": [
      "True\n"
     ]
    }
   ],
   "source": [
    "comp= True or False and not True or False\n",
    "\"\"\"\n",
    "Presedence / Order of Operations\n",
    "\n",
    "- Conditional / Comparison Operators\n",
    "- Not\n",
    "- And\n",
    "- Or\n",
    "\"\"\"\n",
    "print(comp)"
   ]
  },
  {
   "cell_type": "code",
   "execution_count": 3,
   "metadata": {
    "collapsed": false
   },
   "outputs": [
    {
     "name": "stdout",
     "output_type": "stream",
     "text": [
      "True\n"
     ]
    }
   ],
   "source": [
    "comp = not(True or False) and not False or 2 < 3 or True\n",
    "\"\"\"\n",
    "- Presedence / Order of Operations\n",
    "------------------------------------\n",
    "- Conditional / Comparison Operators\n",
    "- Not\n",
    "- And\n",
    "- Or\n",
    "\"\"\"\n",
    "print(comp)"
   ]
  },
  {
   "cell_type": "code",
   "execution_count": 0,
   "metadata": {
    "collapsed": false
   },
   "outputs": [
   ],
   "source": [
    "# DeMorgan's Law\n",
    "# not ( x and y) == (not x) or (not y)\n",
    "# not ( x or y) == (not x) and (not y)\n",
    "\n",
    "\n",
    "not((w and z) or (not w)) # simplify\n",
    "(not(w and z)) and (not(not w)) # step 1\n",
    "(not w) or (not z) and w # simplified\n",
    "\n",
    "# use Truth table to plug in expression\n",
    "\"\"\"\n",
    "W Z\n",
    "---\n",
    "F F -> True\n",
    "T F -> True\n",
    "F T -> True\n",
    "T T -> False\n",
    "\n",
    "\"\"\""
   ]
  }
 ],
 "metadata": {
  "kernelspec": {
   "display_name": "Python 3 (system-wide)",
   "language": "python",
   "metadata": {
    "cocalc": {
     "description": "Python 3 programming language",
     "priority": 100,
     "url": "https://www.python.org/"
    }
   },
   "name": "python3",
   "resource_dir": "/ext/jupyter/kernels/python3"
  },
  "language_info": {
   "codemirror_mode": {
    "name": "ipython",
    "version": 3
   },
   "file_extension": ".py",
   "mimetype": "text/x-python",
   "name": "python",
   "nbconvert_exporter": "python",
   "pygments_lexer": "ipython3",
   "version": "3.8.10"
  }
 },
 "nbformat": 4,
 "nbformat_minor": 4
}