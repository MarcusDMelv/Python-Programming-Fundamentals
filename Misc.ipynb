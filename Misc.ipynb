{
 "cells": [
  {
   "cell_type": "code",
   "execution_count": 1,
   "metadata": {
    "collapsed": false
   },
   "outputs": [
   ],
   "source": [
    "# cool stuff in Python\n"
   ]
  },
  {
   "cell_type": "code",
   "execution_count": 4,
   "metadata": {
    "collapsed": false
   },
   "outputs": [
    {
     "name": "stdout",
     "output_type": "stream",
     "text": [
      "list =  [2, 4, 6, 8, 10]\n"
     ]
    }
   ],
   "source": [
    "# Comprehensions - intitalizing a data type or structure in one line\n",
    "\n",
    "# list comprehension\n",
    "lst = [i for i in range(1,11) if i %2 == 0]\n",
    "print('list = ',lst)"
   ]
  },
  {
   "cell_type": "code",
   "execution_count": 6,
   "metadata": {
    "collapsed": false
   },
   "outputs": [
    {
     "name": "stdout",
     "output_type": "stream",
     "text": [
      "tuple (0, 1, 2, 3, 4, 0, 2, 4, 6, 8, 0, 3, 6, 9, 12, 0, 4, 8, 12, 16, 0, 5, 10, 15, 20, 0, 6, 12, 18, 24, 0, 7, 14, 21, 28, 0, 8, 16, 24, 32, 0, 9, 18, 27, 36, 0, 10, 20, 30, 40)\n"
     ]
    }
   ],
   "source": [
    "# tuple comprehension \n",
    "tup = tuple([i * j for i in range(1,11) for j in range(5)])  # - must convert into tuple or else a generator will be created\n",
    "print('tuple', tup)"
   ]
  },
  {
   "cell_type": "code",
   "execution_count": 8,
   "metadata": {
    "collapsed": false
   },
   "outputs": [
    {
     "name": "stdout",
     "output_type": "stream",
     "text": [
      "set {0, 70, 40, 10, 80, 50, 20, 90, 60, 30}\n"
     ]
    }
   ],
   "source": [
    "# set comprehension\n",
    "s = { i for i in range(0,100,5) if i %2 == 0}\n",
    "print('set', s)"
   ]
  },
  {
   "cell_type": "code",
   "execution_count": 12,
   "metadata": {
    "collapsed": false
   },
   "outputs": [
    {
     "name": "stdout",
     "output_type": "stream",
     "text": [
      "dictionary {0: 10, 10: 10, 20: 10, 30: 10, 40: 10, 50: 10, 60: 10, 70: 10, 80: 10, 90: 10}\n"
     ]
    }
   ],
   "source": [
    "# dictonary comprehension\n",
    "d = {i:j for i in range(0,100,10) for j in range(11)}\n",
    "print('dictionary', d)"
   ]
  },
  {
   "cell_type": "code",
   "execution_count": 17,
   "metadata": {
    "collapsed": false
   },
   "outputs": [
    {
     "name": "stdout",
     "output_type": "stream",
     "text": [
      "bye\n",
      "bye\n",
      "world hello\n"
     ]
    }
   ],
   "source": [
    "# multiple assignment - How to assign one value to multiple var or assign multiple var to multiple values\n",
    "w,z = 'world','hello'  # assign multiple var to multiple values\n",
    "x = y = 'bye'  # assign multiple var to one value\n",
    "print(x)\n",
    "print(y)\n",
    "print(w,z)"
   ]
  },
  {
   "cell_type": "code",
   "execution_count": 20,
   "metadata": {
    "collapsed": false
   },
   "outputs": [
    {
     "name": "stdout",
     "output_type": "stream",
     "text": [
      "1 hello True\n",
      "1 hello True\n"
     ]
    }
   ],
   "source": [
    "# unpacking - taking an iterable object ( tuple , list) and unpacking to individual values\n",
    "# when unpacking must have equal number of variables to elements in iterable object\n",
    "\n",
    "# unpack tuple\n",
    "x,y,z = 1,'hello',True  # this is really a tuple\n",
    "\n",
    "print(x,y,z)  # unpacking a tuple\n",
    "\n",
    "#unpack list\n",
    "x,y,z = [1,'hello',True]\n",
    "\n",
    "print(x,y,z)  # unpacking a list"
   ]
  },
  {
   "cell_type": "code",
   "execution_count": 25,
   "metadata": {
    "collapsed": false
   },
   "outputs": [
    {
     "name": "stdout",
     "output_type": "stream",
     "text": [
      "Help on function foo in module __main__:\n",
      "\n",
      "foo(var1)\n",
      "    this is the foo function\n",
      "\n",
      "Help on built-in function len in module builtins:\n",
      "\n",
      "len(obj, /)\n",
      "    Return the number of items in a container.\n",
      "\n"
     ]
    }
   ],
   "source": [
    "# docstrings - a comment for a function or a class - Description of the function at the top of the function\n",
    "\n",
    "def foo(var1):\n",
    "    \"\"\"\n",
    "    this is the foo function that takes one \n",
    "    \"\"\"\n",
    "    pass\n",
    "\n",
    "# help() function - takes a class or a function and prints the documentation of the function or class\n",
    "help(foo)\n",
    "help(len)"
   ]
  },
  {
   "cell_type": "code",
   "execution_count": 0,
   "metadata": {
    "collapsed": false
   },
   "outputs": [
   ],
   "source": [
   ]
  }
 ],
 "metadata": {
  "kernelspec": {
   "display_name": "Python 3 (system-wide)",
   "language": "python",
   "metadata": {
    "cocalc": {
     "description": "Python 3 programming language",
     "priority": 100,
     "url": "https://www.python.org/"
    }
   },
   "name": "python3",
   "resource_dir": "/ext/jupyter/kernels/python3"
  },
  "language_info": {
   "codemirror_mode": {
    "name": "ipython",
    "version": 3
   },
   "file_extension": ".py",
   "mimetype": "text/x-python",
   "name": "python",
   "nbconvert_exporter": "python",
   "pygments_lexer": "ipython3",
   "version": "3.8.10"
  }
 },
 "nbformat": 4,
 "nbformat_minor": 4
}