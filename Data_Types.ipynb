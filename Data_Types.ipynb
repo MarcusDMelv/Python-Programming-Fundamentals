{
 "cells": [
  {
   "cell_type": "code",
   "execution_count": 1,
   "metadata": {
    "collapsed": false
   },
   "outputs": [
   ],
   "source": [
    "# Data type is a way of classifying information\n",
    "\n",
    "#integer/ int - Any whole number with no decimals = 4,-9,212,344\n",
    "#float decimal / float - Any number that contains a decimal = 2.0,2.2,0.333,-.9\n",
    "#string / str = a sequence of characters that are surronded by '' or \"\" = 'Hello',\"2\",\"Good bye\"\n",
    "#boolean/ bool = True or False - must capitalize booleans\n",
    "#None = Like null - signifies emptiness\n"
   ]
  },
  {
   "cell_type": "code",
   "execution_count": 10,
   "metadata": {
    "collapsed": false
   },
   "outputs": [
    {
     "name": "stdout",
     "output_type": "stream",
     "text": [
      "<class 'NoneType'>\n",
      "<class 'int'>\n",
      "<class 'bool'>\n",
      "<class 'str'>\n",
      "<class 'float'>\n"
     ]
    }
   ],
   "source": [
    "print(type(None)) # output to the console / # input a data type\n",
    "print(type(4)) # returns what data type an object is\n",
    "print(type(False))\n",
    "print(type('Hello'))\n",
    "print(type(2.3))"
   ]
  },
  {
   "cell_type": "code",
   "execution_count": 0,
   "metadata": {
    "collapsed": false
   },
   "outputs": [
   ],
   "source": [
   ]
  }
 ],
 "metadata": {
  "kernelspec": {
   "display_name": "Python 3 (system-wide)",
   "language": "python",
   "metadata": {
    "cocalc": {
     "description": "Python 3 programming language",
     "priority": 100,
     "url": "https://www.python.org/"
    }
   },
   "name": "python3",
   "resource_dir": "/ext/jupyter/kernels/python3"
  },
  "language_info": {
   "codemirror_mode": {
    "name": "ipython",
    "version": 3
   },
   "file_extension": ".py",
   "mimetype": "text/x-python",
   "name": "python",
   "nbconvert_exporter": "python",
   "pygments_lexer": "ipython3",
   "version": "3.8.10"
  }
 },
 "nbformat": 4,
 "nbformat_minor": 4
}