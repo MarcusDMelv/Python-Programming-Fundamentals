{
 "cells": [
  {
   "cell_type": "code",
   "execution_count": 1,
   "metadata": {
    "collapsed": false
   },
   "outputs": [
    {
     "name": "stdout",
     "output_type": "stream",
     "text": [
      "False\n"
     ]
    }
   ],
   "source": [
    "# a condition is any expression that evaluates to True or False.\n",
    "cond = 2 == 3  # == is equal to\n",
    "print(cond)"
   ]
  },
  {
   "cell_type": "code",
   "execution_count": 2,
   "metadata": {
    "collapsed": false
   },
   "outputs": [
    {
     "name": "stdout",
     "output_type": "stream",
     "text": [
      "True\n"
     ]
    }
   ],
   "source": [
    "# Equivalent Operator\n",
    "cond = 3 == 3\n",
    "print(cond)"
   ]
  },
  {
   "cell_type": "code",
   "execution_count": 3,
   "metadata": {
    "collapsed": false
   },
   "outputs": [
    {
     "name": "stdout",
     "output_type": "stream",
     "text": [
      "True\n"
     ]
    }
   ],
   "source": [
    "cond = 3.0 == 3 # type does not matter based off of value\n",
    "print(cond)"
   ]
  },
  {
   "cell_type": "code",
   "execution_count": 2,
   "metadata": {
    "collapsed": false
   },
   "outputs": [
    {
     "name": "stdout",
     "output_type": "stream",
     "text": [
      "False\n",
      "True\n"
     ]
    }
   ],
   "source": [
    "# Not Equivalent Operator\n",
    "cond = 3.0 != 3 # the left hand value is not equal to right hand value\n",
    "cond1 = 3.0 != 3.1\n",
    "\n",
    "print(cond)  # cond is False because the condition is not true because 3.0 is equal to 3\n",
    "print(cond1)  # cond is True because the condition is true because 3.0 is not equal to 3"
   ]
  },
  {
   "cell_type": "code",
   "execution_count": 4,
   "metadata": {
    "collapsed": false
   },
   "outputs": [
    {
     "name": "stdout",
     "output_type": "stream",
     "text": [
      "True\n"
     ]
    }
   ],
   "source": [
    "# Able to use variables for the conditions also\n",
    "\n",
    "x = 4\n",
    "y = 4 \n",
    "\n",
    "cond = x != 9\n",
    "print(cond)"
   ]
  },
  {
   "cell_type": "code",
   "execution_count": 8,
   "metadata": {
    "collapsed": false
   },
   "outputs": [
    {
     "name": "stdout",
     "output_type": "stream",
     "text": [
      "True\n",
      "False\n",
      "True\n"
     ]
    }
   ],
   "source": [
    "# less then < operator and greater then > operator\n",
    "# compares left side to the right side\n",
    "x = 4\n",
    "\n",
    "cond = x < 9  # x is less then 9\n",
    "cond1 = x > 9  # x is greater then 9\n",
    "cond2 = x + 6 > 9  # x plus 6 is greater then 9\n",
    "\n",
    "print(cond) # True because x is LESS THEN 9\n",
    "print(cond1) # False because x is NOT GREATER THEN 9\n",
    "print(cond2) # able to do arithmetic in conditions\n"
   ]
  },
  {
   "cell_type": "code",
   "execution_count": 9,
   "metadata": {
    "collapsed": false
   },
   "outputs": [
    {
     "name": "stdout",
     "output_type": "stream",
     "text": [
      "True\n",
      "False\n"
     ]
    }
   ],
   "source": [
    "# less then or equal to operator <=\n",
    "# checks if value is less then OR equal\n",
    "# compares left side to the right side\n",
    "x = 9\n",
    "\n",
    "cond = x <= 9  # x is less then or equal to 9\n",
    "cond1 = x + 1 <= 9  # x plus 1 s less then or equal to 9\n",
    "\n",
    "print(cond)  # True because x is EQUAL to 9 even though not less then\n",
    "print(cond1)  # False because x plus 1 is NOT LESS then OR EQUAL to 9"
   ]
  },
  {
   "cell_type": "code",
   "execution_count": 10,
   "metadata": {
    "collapsed": false
   },
   "outputs": [
    {
     "name": "stdout",
     "output_type": "stream",
     "text": [
      "False\n"
     ]
    }
   ],
   "source": [
    "# able to use strings in conditions\n",
    "x = 5\n",
    "\n",
    "cond = x == \"6\"  # int vs str -- able to use equal to operators but not able to use less then or greater then operators\n",
    "print(cond)  # False x is an int and 6 is a string python will not see these equal based of data type"
   ]
  },
  {
   "cell_type": "code",
   "execution_count": 1,
   "metadata": {
    "collapsed": false
   },
   "outputs": [
    {
     "name": "stdout",
     "output_type": "stream",
     "text": [
      "False\n",
      "True\n"
     ]
    }
   ],
   "source": [
    "# Compare Strings\n",
    "\n",
    "str1 = 'Hello'\n",
    "str2 = 'hello'\n",
    "\n",
    "str3 = 'bye'\n",
    "str4 = 'bye'\n",
    "\n",
    "# comparing strings is possible python checks to see if they are exactly the same strings\n",
    "cond = str1 == str2\n",
    "cond1 = str3 == str4\n",
    "\n",
    "print(cond)  # The reason the condition is False is because one string has an capital H while the other is lowercase h\n",
    "print(cond1)  # True because the strings are exactly the same"
   ]
  },
  {
   "cell_type": "code",
   "execution_count": 2,
   "metadata": {
    "collapsed": false
   },
   "outputs": [
    {
     "name": "stdout",
     "output_type": "stream",
     "text": [
      "False\n"
     ]
    }
   ],
   "source": [
    "str1 = 'ac'\n",
    "str2 = 'ab'\n",
    "\n",
    "\n",
    "# comparing strings is possible python checks by the order of the alphabet / ASCII - uses mumeric value\n",
    "cond = str1 < str2 # c is greater then b accoriding to ASCII\n",
    "\n",
    "print(cond)  # The reason the condition is False is because c is greater then b"
   ]
  },
  {
   "cell_type": "code",
   "execution_count": 8,
   "metadata": {
    "collapsed": false
   },
   "outputs": [
    {
     "name": "stdout",
     "output_type": "stream",
     "text": [
      "97\n",
      "98\n",
      "99\n",
      "65\n",
      "33\n"
     ]
    }
   ],
   "source": [
    "# how to find charcters value in ASCII\n",
    "# ordinal function gives numeric repesentation to any character - ord()\n",
    "print(ord('a'))\n",
    "print(ord('b'))\n",
    "print(ord('c'))\n",
    "print(ord('A'))\n",
    "print(ord('!'))\n",
    "# lowercase a starts at 97\n",
    "# uppercase A starts at 65"
   ]
  },
  {
   "cell_type": "code",
   "execution_count": 11,
   "metadata": {
    "collapsed": false
   },
   "outputs": [
    {
     "name": "stdout",
     "output_type": "stream",
     "text": [
      "a\n",
      "b\n",
      "c\n",
      "A\n",
      "!\n"
     ]
    }
   ],
   "source": [
    "# Using character function chr()\n",
    "# char() takes an Ordinal value gives you the character associated with it\n",
    "print(chr(97))\n",
    "print(chr(98))\n",
    "print(chr(99))\n",
    "print(chr(65))\n",
    "print(chr(33))"
   ]
  },
  {
   "cell_type": "code",
   "execution_count": 12,
   "metadata": {
    "collapsed": false
   },
   "outputs": [
    {
     "name": "stdout",
     "output_type": "stream",
     "text": [
      "True\n"
     ]
    }
   ],
   "source": [
    "# When comparing string python will use ASCII\n",
    "\n",
    "str1 = 'ABC'\n",
    "str2 = 'abc'\n",
    "\n",
    "cond = str1 < str2\n",
    "\n",
    "# reason this will be True because according to character function and ordiance function lowercase char is greater then uppercase\n",
    "\n",
    "print(cond)"
   ]
  },
  {
   "cell_type": "code",
   "execution_count": 17,
   "metadata": {
    "collapsed": false
   },
   "outputs": [
    {
     "name": "stdout",
     "output_type": "stream",
     "text": [
      "True\n",
      "False\n",
      "True\n",
      "False\n",
      "False\n"
     ]
    }
   ],
   "source": [
    "# Strange Comparison\n",
    "\n",
    "cond = True == 1  # True because True is really 1\n",
    "cond1 = False == \"\"  # This will be False\n",
    "cond2 = False == 0  # This is True because False does equal 0\n",
    "cond3 = True == \"\"  # False\n",
    "cond4 = True == \"True\"  # False because they are different data types\n",
    "# only way to understand \n",
    "print(cond)\n",
    "print(cond1)\n",
    "print(cond2)\n",
    "print(cond3)\n",
    "print(cond4)"
   ]
  },
  {
   "cell_type": "code",
   "execution_count": 0,
   "metadata": {
    "collapsed": false
   },
   "outputs": [
   ],
   "source": [
   ]
  }
 ],
 "metadata": {
  "kernelspec": {
   "display_name": "Python 3 (system-wide)",
   "language": "python",
   "metadata": {
    "cocalc": {
     "description": "Python 3 programming language",
     "priority": 100,
     "url": "https://www.python.org/"
    }
   },
   "name": "python3",
   "resource_dir": "/ext/jupyter/kernels/python3"
  },
  "language_info": {
   "codemirror_mode": {
    "name": "ipython",
    "version": 3
   },
   "file_extension": ".py",
   "mimetype": "text/x-python",
   "name": "python",
   "nbconvert_exporter": "python",
   "pygments_lexer": "ipython3",
   "version": "3.8.10"
  }
 },
 "nbformat": 4,
 "nbformat_minor": 4
}