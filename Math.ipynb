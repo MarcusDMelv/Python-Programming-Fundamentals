{
 "cells": [
  {
   "cell_type": "code",
   "execution_count": 12,
   "metadata": {
    "collapsed": false
   },
   "outputs": [
    {
     "name": "stdout",
     "output_type": "stream",
     "text": [
      "abs(-9) = 9\n",
      "max([12,10,5]) = 12\n",
      "min([12,10,5]) = 5\n",
      "sum([12,3,5,6) = 26\n",
      "round(3.567,) = 3.57\n"
     ]
    }
   ],
   "source": [
    "# built in math functions\n",
    "x = abs(-9)  # absolute value gives the value thats positive\n",
    "print('abs(-9) =',x)\n",
    "\n",
    "x = max([12,10,5])  # max will give the max value of an iterable objects or of the arguments passed\n",
    "print('max([12,10,5]) =',x)\n",
    "\n",
    "x = min([12,10,5])  # min will give the minimum of an iterable objects or of the arguments passed\n",
    "print('min([12,10,5]) =',x)\n",
    "\n",
    "x = sum([12,3,5,6])  # gives the sum of the argument or the iterable object\n",
    "print('sum([12,3,5,6) =',x)\n",
    "\n",
    "x = round(3.567,2)  # takes a number and the number of digits you would like to round to - default rounds to nearest whole number\n",
    "print('round(3.567,) =',x)"
   ]
  },
  {
   "cell_type": "code",
   "execution_count": 11,
   "metadata": {
    "collapsed": false
   },
   "outputs": [
    {
     "name": "stdout",
     "output_type": "stream",
     "text": [
      "math.sin(90) = 0.8939966636005579\n",
      "math.cos(0) = 1.0\n",
      "math.cos(math.pi) = -1.0\n"
     ]
    }
   ],
   "source": [
    "# the math module - import math\n",
    "# math is built in to python\n",
    "import math\n",
    "\n",
    "# trigonometry - working with radians and not degrees\n",
    "\n",
    "x = math.sin(90)\n",
    "print('math.sin(90) =',x)\n",
    "\n",
    "x = math.cos(0)\n",
    "print('math.cos(0) =',x)\n",
    "\n",
    "x = math.cos(math.pi)\n",
    "print('math.cos(math.pi) =',x)"
   ]
  },
  {
   "cell_type": "code",
   "execution_count": 16,
   "metadata": {
    "collapsed": false
   },
   "outputs": [
    {
     "name": "stdout",
     "output_type": "stream",
     "text": [
      "random number between 1 and 100 = 66\n",
      "random number between 1 and 100 step 5 = 75\n"
     ]
    }
   ],
   "source": [
    "# Random Module\n",
    "# allows us to randomly select things\n",
    "# randomly generate numbers\n",
    "import random\n",
    "\n",
    "# random numbers\n",
    "rand_num = random.randint(1,100)  # random number between 1 and 100\n",
    "print('random number between 1 and 100 =', rand_num)\n",
    "\n",
    "# random range\n",
    "rand_range = random.randrange(0,101,5)  # (start,stop,step)\n",
    "print('random number between 0 and 101 step 5 =', rand_range)\n",
    "\n",
    "# select random things from a list\n",
    "lst = list(range(0,101))\n",
    "lst.append('JACKPOT!!')\n",
    "rand_select = random.choice(lst)\n",
    "print('Randomly select a number from the a list', )"
   ]
  },
  {
   "cell_type": "code",
   "execution_count": 0,
   "metadata": {
    "collapsed": false
   },
   "outputs": [
   ],
   "source": [
   ]
  }
 ],
 "metadata": {
  "kernelspec": {
   "display_name": "Python 3 (system-wide)",
   "language": "python",
   "metadata": {
    "cocalc": {
     "description": "Python 3 programming language",
     "priority": 100,
     "url": "https://www.python.org/"
    }
   },
   "name": "python3",
   "resource_dir": "/ext/jupyter/kernels/python3"
  },
  "language_info": {
   "codemirror_mode": {
    "name": "ipython",
    "version": 3
   },
   "file_extension": ".py",
   "mimetype": "text/x-python",
   "name": "python",
   "nbconvert_exporter": "python",
   "pygments_lexer": "ipython3",
   "version": "3.8.10"
  }
 },
 "nbformat": 4,
 "nbformat_minor": 4
}