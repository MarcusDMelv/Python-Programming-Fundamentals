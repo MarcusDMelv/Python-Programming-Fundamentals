{
 "cells": [
  {
   "cell_type": "code",
   "execution_count": 2,
   "metadata": {
    "collapsed": false
   },
   "outputs": [
   ],
   "source": [
    "# are the objects changeable , modifiable or not\n",
    "# mutable - changeable - list / dictionary / set\n",
    "# immutable - not changeable - int / float / str / tuple / bool"
   ]
  },
  {
   "cell_type": "code",
   "execution_count": 5,
   "metadata": {
    "collapsed": false
   },
   "outputs": [
    {
     "name": "stdout",
     "output_type": "stream",
     "text": [
      "Immutable Results: 2,1\n",
      "Mutable Results: [1],[1]\n"
     ]
    }
   ],
   "source": [
    "# Immutable\n",
    "x = 1\n",
    "y = x\n",
    "x += x  # x does not change creating a new object\n",
    "print(f'Immutable Results: {x},{y}')\n",
    "\n",
    "# Mutable\n",
    "x = []\n",
    "y = x\n",
    "x.append(1)  # changing x and y is effected\n",
    "print(f'Mutable Results: {x},{y}')"
   ]
  },
  {
   "cell_type": "code",
   "execution_count": 7,
   "metadata": {
    "collapsed": false
   },
   "outputs": [
    {
     "name": "stdout",
     "output_type": "stream",
     "text": [
      "x and y are the same objects:  True\n",
      "w and  are the same objects:  False\n"
     ]
    }
   ],
   "source": [
    "# how to know if an object is the same? - use keyword is\n",
    "# Mutable\n",
    "x = []\n",
    "y = x\n",
    "\n",
    "w = []\n",
    "z = []\n",
    "print('x and y are the same objects: ',x is y)\n",
    "print('w and  are the same objects: ',w is z)"
   ]
  },
  {
   "cell_type": "code",
   "execution_count": 13,
   "metadata": {
    "collapsed": false
   },
   "outputs": [
    {
     "name": "stdout",
     "output_type": "stream",
     "text": [
      "139865430914944 139865430914944\n",
      "9789024 9788992\n"
     ]
    }
   ],
   "source": [
    "# ID keyword - memory address location of objects in python\n",
    "# all the code gets stored in RAM\n",
    "# to see location of an object us id()\n",
    "\n",
    "x = []\n",
    "y = x\n",
    "print(id(x), id(y))  # same address \n",
    "\n",
    "a = 1\n",
    "b = a\n",
    "\n",
    "a += 1\n",
    "print(id(a), id(b)) # different address"
   ]
  },
  {
   "cell_type": "code",
   "execution_count": 14,
   "metadata": {
    "collapsed": false
   },
   "outputs": [
   ],
   "source": [
    "# work with immutable tuples\n",
    "\n",
    "x = 1,2,3\n",
    "y = 1,2,4\n",
    "\n"
   ]
  },
  {
   "cell_type": "code",
   "execution_count": 16,
   "metadata": {
    "collapsed": false
   },
   "outputs": [
    {
     "name": "stdout",
     "output_type": "stream",
     "text": [
      "[2]\n",
      "[2]\n"
     ]
    }
   ],
   "source": [
    "# work with mutable list\n",
    "\n",
    "x = list()\n",
    "\n",
    "def func(lst,x):\n",
    "    lst.append(x)\n",
    "    print(lst)\n",
    "    \n",
    "a = []  # has been modified also\n",
    "func(a,2)  # function is modifing an list\n",
    "print(a)  # list was modified outside of function"
   ]
  },
  {
   "cell_type": "code",
   "execution_count": 21,
   "metadata": {
    "collapsed": false
   },
   "outputs": [
    {
     "name": "stdout",
     "output_type": "stream",
     "text": [
      "{'key': 'value', 'key1': 'value1'} {'key': 'value', 'key1': 'value1'}\n",
      "{'key': 'value', 'key1': 'value1', 'lion': 'big cat'} {'key': 'value', 'key1': 'value1', 'lion': 'big cat'}\n"
     ]
    }
   ],
   "source": [
    "# working with mutable dictionaries\n",
    "d = dict()\n",
    "\n",
    "d['key'] = 'value'\n",
    "\n",
    "a = d\n",
    "\n",
    "a['key1'] = 'value1'\n",
    "\n",
    "\n",
    "\n",
    "print(a,d) # same object\n",
    "\n",
    "a['lion'] = a.get('cat','big cat')\n",
    "print(a,d)"
   ]
  },
  {
   "cell_type": "code",
   "execution_count": 22,
   "metadata": {
    "collapsed": false
   },
   "outputs": [
    {
     "name": "stdout",
     "output_type": "stream",
     "text": [
      "{3, 4} {3, 4}\n"
     ]
    }
   ],
   "source": [
    "# working with mutable sets\n",
    "\n",
    "s1 = set()\n",
    "s2 = s1\n",
    "\n",
    "s1.add(3)\n",
    "s2.add(4)\n",
    "\n",
    "print(s1,s2)"
   ]
  },
  {
   "cell_type": "code",
   "execution_count": 23,
   "metadata": {
    "collapsed": false
   },
   "outputs": [
    {
     "name": "stdout",
     "output_type": "stream",
     "text": [
      "[1, 2, 3, 4] [1, 2, 3]\n"
     ]
    }
   ],
   "source": [
    "# creating copies of mutable objects\n",
    "# what if you do not want the function to modify a list outside of the function\n",
    "\n",
    "a = [1,2,3]\n",
    "# I want b to be a new object - so if a is modified b will not be effected\n",
    "b = a[:]  # taking a slice of everything - now b is its own object\n",
    "\n",
    "a.append(4)\n",
    "print(a,b)\n"
   ]
  },
  {
   "cell_type": "code",
   "execution_count": 25,
   "metadata": {
    "collapsed": false
   },
   "outputs": [
    {
     "name": "stdout",
     "output_type": "stream",
     "text": [
      "[1, 2, 3]\n",
      "[1, 2, 3, 4]\n"
     ]
    }
   ],
   "source": [
    "# creating copies of mutable objects\n",
    "# what if you do not want the function to modify a list outside of the function\n",
    "\n",
    "def list_function(lst):\n",
    "    lst = lst[:]  # now it is its own list\n",
    "    lst.append(4)\n",
    "    print(lst)\n",
    "    \n",
    "x = [1,2,3]\n",
    "print(x)\n",
    "list_function(x)"
   ]
  },
  {
   "cell_type": "code",
   "execution_count": 27,
   "metadata": {
    "collapsed": false
   },
   "outputs": [
    {
     "name": "stdout",
     "output_type": "stream",
     "text": [
      "{1, 2, 3, 4} {1, 2, 3}\n"
     ]
    }
   ],
   "source": [
    "# using copy() method with a set - different object\n",
    "\n",
    "s1 = {1,2,3}\n",
    "# make a copy of s1\n",
    "s2 = s1.copy()\n",
    "\n",
    "s1.add(4)\n",
    "print(s1,s2)"
   ]
  },
  {
   "cell_type": "code",
   "execution_count": 28,
   "metadata": {
    "collapsed": false
   },
   "outputs": [
    {
     "name": "stdout",
     "output_type": "stream",
     "text": [
      "{'key': 'value', 'key2': 'lion'} {'key': 'value'}\n"
     ]
    }
   ],
   "source": [
    "# using copy() method with a dictionary - makong different objects\n",
    "\n",
    "d1 = dict()\n",
    "d1['key'] = 'value'\n",
    "\n",
    "d2 = d1.copy()\n",
    "d1['key2'] = 'lion'\n",
    "\n",
    "print(d1,d2)"
   ]
  },
  {
   "cell_type": "code",
   "execution_count": 31,
   "metadata": {
    "collapsed": false
   },
   "outputs": [
    {
     "name": "stdout",
     "output_type": "stream",
     "text": [
      "[[1, 2, 3, 4, 10], [5, 6, 7]]\n",
      "{1: [1, 2, 3, 4]}\n"
     ]
    }
   ],
   "source": [
    "# nested mutable data types\n",
    "lst = [[1,2,3,4],[5,6,7]]\n",
    "\n",
    "lst[0].append(10)\n",
    "print(lst)\n",
    "\n",
    "lst = [1,2,3]\n",
    "d = {1:lst}\n",
    "lst.append(4)\n",
    "print(d)"
   ]
  },
  {
   "cell_type": "code",
   "execution_count": 0,
   "metadata": {
    "collapsed": false
   },
   "outputs": [
   ],
   "source": [
    "    "
   ]
  }
 ],
 "metadata": {
  "kernelspec": {
   "display_name": "Python 3 (system-wide)",
   "language": "python",
   "metadata": {
    "cocalc": {
     "description": "Python 3 programming language",
     "priority": 100,
     "url": "https://www.python.org/"
    }
   },
   "name": "python3",
   "resource_dir": "/ext/jupyter/kernels/python3"
  },
  "language_info": {
   "codemirror_mode": {
    "name": "ipython",
    "version": 3
   },
   "file_extension": ".py",
   "mimetype": "text/x-python",
   "name": "python",
   "nbconvert_exporter": "python",
   "pygments_lexer": "ipython3",
   "version": "3.8.10"
  }
 },
 "nbformat": 4,
 "nbformat_minor": 4
}