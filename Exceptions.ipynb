{
 "cells": [
  {
   "cell_type": "code",
   "execution_count": 1,
   "metadata": {
    "collapsed": false
   },
   "outputs": [
   ],
   "source": [
    "# errors that are raised in the program when something is invalid\n",
    "# many exceptions can occur\n",
    "# how to handle exceptions and how to raise or own exceptions\n",
    "# exceptions are very specfic and gives a description\n",
    "# accept only when you know a possible error could occur\n",
    "# try not to over use try and except\n"
   ]
  },
  {
   "cell_type": "code",
   "execution_count": 9,
   "metadata": {
    "cocalc": {
     "outputs": {
      "0": {
       "name": "input",
       "opts": {
        "password": false,
        "prompt": "Enter a few digits"
       },
       "output_type": "stream",
       "value": "here I will enter characters"
      }
     }
    },
    "collapsed": false
   },
   "outputs": [
    {
     "name": "stdout",
     "output_type": "stream",
     "text": "Enter a few digits here I will enter characters"
    },
    {
     "name": "stdout",
     "output_type": "stream",
     "text": [
      "Exception from trying to convert \"here I will enter characters\" to a integer\n",
      "Done\n"
     ]
    }
   ],
   "source": [
    "# handling exceptions using try and except block\n",
    "\n",
    "try:  # put in block of code trying to run - exception might occur\n",
    "    code = input('Enter a few digits')\n",
    "    int(code)# trying to conver a a none digit to an int\n",
    "\n",
    "except:  # if exception occurs run the except block of code\n",
    "    print(f'Exception from trying to convert \"{code}\" to a integer')\n",
    "\n",
    "print('Done')"
   ]
  },
  {
   "cell_type": "code",
   "execution_count": 10,
   "metadata": {
    "cocalc": {
     "outputs": {
      "0": {
       "name": "input",
       "opts": {
        "password": false,
        "prompt": "Enter a few digits"
       },
       "output_type": "stream",
       "value": "er"
      }
     }
    },
    "collapsed": false
   },
   "outputs": [
    {
     "name": "stdout",
     "output_type": "stream",
     "text": "Enter a few digits er"
    },
    {
     "name": "stdout",
     "output_type": "stream",
     "text": [
      "Exception from trying to convert \"er\" to a integer invalid literal for int() with base 10: 'er'\n",
      "Done\n"
     ]
    }
   ],
   "source": [
    "# Able to except specific exceptions - reason is to debug program for unexpecting errors\n",
    "\n",
    "try:  # put in block of code trying to run - exception might occur\n",
    "    code = input('Enter a few digits')\n",
    "    int(code)# trying to conver a a none digit to an int\n",
    "    \n",
    "    # put in the exception you would like to catch\n",
    "except ValueError as e:  # store error as a varible || only except that exception\n",
    "    print(f'Exception from trying to convert \"{code}\" to a integer',e)\n",
    "\n",
    "print('Done')"
   ]
  },
  {
   "cell_type": "code",
   "execution_count": 18,
   "metadata": {
    "cocalc": {
     "outputs": {
      "0": {
       "name": "input",
       "opts": {
        "password": false,
        "prompt": "Enter a few digits"
       },
       "output_type": "stream",
       "value": "12"
      }
     }
    },
    "collapsed": false
   },
   "outputs": [
    {
     "name": "stdout",
     "output_type": "stream",
     "text": "Enter a few digits 12"
    },
    {
     "name": "stdout",
     "output_type": "stream",
     "text": [
      "Zero Division Exception: division by zero\n",
      "Done\n"
     ]
    }
   ],
   "source": [
    "# handling multiple multiple exceptions\n",
    "\n",
    "try:  # put in block of code trying to run - exception might occur\n",
    "    code = int(input('Enter a few digits'))  # if user does not use digits - value error\n",
    "    code/0  # zero division error\n",
    "\n",
    "# possisble exception in program\n",
    "except ValueError as e:  # if exception occurs run the except block of code\n",
    "    print(f'Value Exception:',e)\n",
    "\n",
    "# possible exception in program\n",
    "except ZeroDivisionError as e:  # if exception occurs run the except block of code\n",
    "    print(f'Zero Division Exception:',e)\n",
    "\n",
    "print('Done')"
   ]
  },
  {
   "cell_type": "code",
   "execution_count": 17,
   "metadata": {
    "cocalc": {
     "outputs": {
      "0": {
       "name": "input",
       "opts": {
        "password": false,
        "prompt": "Enter a few digits"
       },
       "output_type": "stream",
       "value": "44"
      }
     }
    },
    "collapsed": false
   },
   "outputs": [
    {
     "name": "stdout",
     "output_type": "stream",
     "text": "Enter a few digits 44"
    },
    {
     "name": "stdout",
     "output_type": "stream",
     "text": [
      "Exception: division by zero\n",
      "Done\n"
     ]
    }
   ],
   "source": [
    "# handling general exception ( Any type of exception) - Not sure what error the program might run into\n",
    "\n",
    "try:  # put in block of code trying to run - exception might occur\n",
    "    code = int(input('Enter a few digits'))  # if user does not use digits - value error\n",
    "    code/0  # zero division error\n",
    "\n",
    "# store any exception into variable\n",
    "except Exception as e:  # if exception occurs run the except block of code\n",
    "    print(f'Exception:',e)\n",
    "\n",
    "\n",
    "print('Done')"
   ]
  },
  {
   "cell_type": "code",
   "execution_count": 1,
   "metadata": {
    "cocalc": {
     "outputs": {
      "0": {
       "name": "input",
       "opts": {
        "password": false,
        "prompt": "Enter a few digits"
       },
       "output_type": "stream",
       "value": "22"
      }
     }
    },
    "collapsed": false
   },
   "outputs": [
    {
     "name": "stdout",
     "output_type": "stream",
     "text": "Enter a few digits 22"
    },
    {
     "name": "stdout",
     "output_type": "stream",
     "text": [
      "Exception:  division by zero\n",
      "Run some random code so the program will not crash 11.0\n"
     ]
    }
   ],
   "source": [
    "# Using the finally block of code\n",
    "# perform the clean up operations\n",
    "# will always run no matter what! - if an exception occurs or not!\n",
    "# purpose of finally - sometimes inside the try block we are doing something that MIGHT need to be cleaned up\n",
    "\n",
    "try:  # put in block of code trying to run - exception might occur\n",
    "    code = int(input('Enter a few digits'))  # if user does not use digits - value error\n",
    "    code/0  # zero division error\n",
    "\n",
    "\n",
    "# possible exception in program\n",
    "except Exception as e:  # if exception occurs run the except block of code\n",
    "    print(f'Exception: ',e)\n",
    "\n",
    "finally:  # exception occurs and still prints done - cleans up try statement\n",
    "    code1 = 2\n",
    "    final_sum = code / code1 \n",
    "    print(f'Run some random code so the program will not crash',final_sum)"
   ]
  },
  {
   "cell_type": "code",
   "execution_count": 4,
   "metadata": {
    "collapsed": false
   },
   "outputs": [
    {
     "ename": "Exception",
     "evalue": "This is an error!",
     "output_type": "error",
     "traceback": [
      "\u001b[0;31m---------------------------------------------------------------------------\u001b[0m",
      "\u001b[0;31mException\u001b[0m                                 Traceback (most recent call last)",
      "\u001b[0;32m/tmp/ipykernel_357/221679947.py\u001b[0m in \u001b[0;36m<cell line: 3>\u001b[0;34m()\u001b[0m\n\u001b[1;32m      1\u001b[0m \u001b[0;31m# Raising Exceptions - use raise keyword then type of error\u001b[0m\u001b[0;34m\u001b[0m\u001b[0;34m\u001b[0m\u001b[0;34m\u001b[0m\u001b[0m\n\u001b[1;32m      2\u001b[0m \u001b[0;34m\u001b[0m\u001b[0m\n\u001b[0;32m----> 3\u001b[0;31m \u001b[0;32mraise\u001b[0m \u001b[0mException\u001b[0m\u001b[0;34m(\u001b[0m\u001b[0;34m'This is an error!'\u001b[0m\u001b[0;34m)\u001b[0m\u001b[0;34m\u001b[0m\u001b[0;34m\u001b[0m\u001b[0m\n\u001b[0m",
      "\u001b[0;31mException\u001b[0m: This is an error!"
     ]
    }
   ],
   "source": [
    "# Raising Exceptions - use raise keyword then type of error\n",
    "\n",
    "raise Exception('This is an error!')"
   ]
  },
  {
   "cell_type": "code",
   "execution_count": 5,
   "metadata": {
    "collapsed": false
   },
   "outputs": [
    {
     "ename": "ValueError",
     "evalue": "Error! Error!",
     "output_type": "error",
     "traceback": [
      "\u001b[0;31m---------------------------------------------------------------------------\u001b[0m",
      "\u001b[0;31mValueError\u001b[0m                                Traceback (most recent call last)",
      "\u001b[0;32m/tmp/ipykernel_357/2489891946.py\u001b[0m in \u001b[0;36m<cell line: 1>\u001b[0;34m()\u001b[0m\n\u001b[0;32m----> 1\u001b[0;31m \u001b[0;32mraise\u001b[0m \u001b[0mValueError\u001b[0m\u001b[0;34m(\u001b[0m\u001b[0;34m'Error! Error!'\u001b[0m\u001b[0;34m)\u001b[0m\u001b[0;34m\u001b[0m\u001b[0;34m\u001b[0m\u001b[0m\n\u001b[0m",
      "\u001b[0;31mValueError\u001b[0m: Error! Error!"
     ]
    }
   ],
   "source": [
    "raise ValueError('Error! Error!')"
   ]
  },
  {
   "cell_type": "code",
   "execution_count": 6,
   "metadata": {
    "collapsed": false
   },
   "outputs": [
    {
     "ename": "SyntaxError",
     "evalue": "This Syntax will not work!! (<string>)",
     "output_type": "error",
     "traceback": [
      "Traceback \u001b[0;36m(most recent call last)\u001b[0m:\n",
      "  File \u001b[1;32m\"/usr/local/lib/python3.8/dist-packages/IPython/core/interactiveshell.py\"\u001b[0m, line \u001b[1;32m3524\u001b[0m, in \u001b[1;35mrun_code\u001b[0m\n    exec(code_obj, self.user_global_ns, self.user_ns)\n",
      "\u001b[0;36m  File \u001b[0;32m\"/tmp/ipykernel_357/3565430649.py\"\u001b[0;36m, line \u001b[0;32m1\u001b[0;36m, in \u001b[0;35m<cell line: 1>\u001b[0;36m\u001b[0m\n\u001b[0;31m    raise SyntaxError('This Syntax will not work!!')\u001b[0m\n",
      "\u001b[0;36m  File \u001b[0;32m\"<string>\"\u001b[0;36m, line \u001b[0;32munknown\u001b[0m\n\u001b[0;31mSyntaxError\u001b[0m\u001b[0;31m:\u001b[0m This Syntax will not work!!\n"
     ]
    }
   ],
   "source": [
    "raise SyntaxError('This Syntax will not work!!')"
   ]
  },
  {
   "cell_type": "code",
   "execution_count": 7,
   "metadata": {
    "collapsed": false
   },
   "outputs": [
    {
     "ename": "IndexError",
     "evalue": "Wrong indexing!!",
     "output_type": "error",
     "traceback": [
      "\u001b[0;31m---------------------------------------------------------------------------\u001b[0m",
      "\u001b[0;31mIndexError\u001b[0m                                Traceback (most recent call last)",
      "\u001b[0;32m/tmp/ipykernel_357/3310284893.py\u001b[0m in \u001b[0;36m<cell line: 1>\u001b[0;34m()\u001b[0m\n\u001b[0;32m----> 1\u001b[0;31m \u001b[0;32mraise\u001b[0m \u001b[0mIndexError\u001b[0m\u001b[0;34m(\u001b[0m\u001b[0;34m'Wrong indexing!!'\u001b[0m\u001b[0;34m)\u001b[0m\u001b[0;34m\u001b[0m\u001b[0;34m\u001b[0m\u001b[0m\n\u001b[0m",
      "\u001b[0;31mIndexError\u001b[0m: Wrong indexing!!"
     ]
    }
   ],
   "source": [
    "raise IndexError('Wrong indexing!!')"
   ]
  },
  {
   "cell_type": "code",
   "execution_count": 8,
   "metadata": {
    "cocalc": {
     "outputs": {
      "0": {
       "name": "input",
       "opts": {
        "password": false,
        "prompt": "Enter a number:"
       },
       "output_type": "stream",
       "value": "23.33"
      }
     }
    },
    "collapsed": false
   },
   "outputs": [
    {
     "name": "stdout",
     "output_type": "stream",
     "text": "Enter a number: 23.33"
    },
    {
     "ename": "ValueError",
     "evalue": "This is not a valid number!",
     "output_type": "error",
     "traceback": [
      "\u001b[0;31m---------------------------------------------------------------------------\u001b[0m",
      "\u001b[0;31mValueError\u001b[0m                                Traceback (most recent call last)",
      "\u001b[0;32m/tmp/ipykernel_357/225457347.py\u001b[0m in \u001b[0;36m<cell line: 4>\u001b[0;34m()\u001b[0m\n\u001b[1;32m      3\u001b[0m \u001b[0;34m\u001b[0m\u001b[0m\n\u001b[1;32m      4\u001b[0m \u001b[0;32mif\u001b[0m \u001b[0;32mnot\u001b[0m \u001b[0mnum\u001b[0m\u001b[0;34m.\u001b[0m\u001b[0misdigit\u001b[0m\u001b[0;34m(\u001b[0m\u001b[0;34m)\u001b[0m\u001b[0;34m:\u001b[0m\u001b[0;34m\u001b[0m\u001b[0;34m\u001b[0m\u001b[0m\n\u001b[0;32m----> 5\u001b[0;31m     \u001b[0;32mraise\u001b[0m \u001b[0mValueError\u001b[0m\u001b[0;34m(\u001b[0m\u001b[0;34m'This is not a valid number!'\u001b[0m\u001b[0;34m)\u001b[0m\u001b[0;34m\u001b[0m\u001b[0;34m\u001b[0m\u001b[0m\n\u001b[0m",
      "\u001b[0;31mValueError\u001b[0m: This is not a valid number!"
     ]
    }
   ],
   "source": [
    "# raising an exception when user input an invalid number - ValueError\n",
    "num = input('Enter a number:')\n",
    "\n",
    "if not num.isdigit():\n",
    "    raise ValueError('This is not a valid number!')"
   ]
  },
  {
   "cell_type": "code",
   "execution_count": 10,
   "metadata": {
    "cocalc": {
     "outputs": {
      "0": {
       "name": "input",
       "opts": {
        "password": false,
        "prompt": "Enter a number"
       },
       "output_type": "stream",
       "value": "!"
      },
      "2": {
       "name": "input",
       "opts": {
        "password": false,
        "prompt": "Enter a number"
       },
       "output_type": "stream",
       "value": "22"
      }
     }
    },
    "collapsed": false
   },
   "outputs": [
    {
     "name": "stdout",
     "output_type": "stream",
     "text": "Enter a number !"
    },
    {
     "name": "stdout",
     "output_type": "stream",
     "text": [
      "not a valid float, try again!\n"
     ]
    },
    {
     "name": "stdout",
     "output_type": "stream",
     "text": "Enter a number 22"
    },
    {
     "name": "stdout",
     "output_type": "stream",
     "text": [
      "22.0\n"
     ]
    }
   ],
   "source": [
    "# using a try except block\n",
    "\n",
    "\n",
    "while True:\n",
    "    num = input('Enter a number')\n",
    "\n",
    "    try:\n",
    "        num = float(num)  # check to see if user input can be turned into a float\n",
    "        break\n",
    "    except ValueError as e:  # catch error and start loop again\n",
    "        print('not a valid float, try again!')\n",
    "        \n",
    "print(num)"
   ]
  },
  {
   "cell_type": "code",
   "execution_count": 0,
   "metadata": {
    "collapsed": false
   },
   "outputs": [
   ],
   "source": [
   ]
  }
 ],
 "metadata": {
  "kernelspec": {
   "display_name": "Python 3 (system-wide)",
   "language": "python",
   "metadata": {
    "cocalc": {
     "description": "Python 3 programming language",
     "priority": 100,
     "url": "https://www.python.org/"
    }
   },
   "name": "python3",
   "resource_dir": "/ext/jupyter/kernels/python3"
  },
  "language_info": {
   "codemirror_mode": {
    "name": "ipython",
    "version": 3
   },
   "file_extension": ".py",
   "mimetype": "text/x-python",
   "name": "python",
   "nbconvert_exporter": "python",
   "pygments_lexer": "ipython3",
   "version": "3.8.10"
  }
 },
 "nbformat": 4,
 "nbformat_minor": 4
}