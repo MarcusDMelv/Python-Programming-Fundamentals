{
 "cells": [
  {
   "cell_type": "code",
   "execution_count": 5,
   "metadata": {
    "collapsed": false
   },
   "outputs": [
    {
     "name": "stdout",
     "output_type": "stream",
     "text": [
      "normal state of created list [1, 2, 33, 43, 27, 87, 888, 65, 32, 101, 12]\n",
      "using .sort on the list [1, 2, 12, 27, 32, 33, 43, 65, 87, 101, 888]\n",
      "using sorted() on the list [1, 2, 12, 27, 32, 33, 43, 65, 87, 101, 888]\n"
     ]
    }
   ],
   "source": [
    "# sort different data structures using built in methods\n",
    "# two sort methods\n",
    "    # sorted() - returns new object but sorted\n",
    "    # .sorted - sort the object in place\n",
    "lst = [1,2,33,43,27,87,888,65,32,101,12]\n",
    "print('normal state of created list',lst)\n",
    "lst.sort()\n",
    "print(f'using .sort on the list {lst}') # actually modifies the object\n",
    "print(f'using sorted() on the list {sorted(lst)}')  # does not change the list"
   ]
  },
  {
   "cell_type": "code",
   "execution_count": 8,
   "metadata": {
    "collapsed": false
   },
   "outputs": [
    {
     "name": "stdout",
     "output_type": "stream",
     "text": [
      "descending order of the list using .sort(reverse = True) [888, 101, 87, 65, 43, 33, 32, 27, 12, 2, 1]\n",
      "descending order of the list using sorted(list,reverse = True) [888, 101, 87, 65, 43, 33, 32, 27, 12, 2, 1]\n"
     ]
    }
   ],
   "source": [
    "# .sort(reverse = True) descending order\n",
    "lst.sort(reverse = True)\n",
    "print('descending order of the list using .sort(reverse = True)',lst)\n",
    "\n",
    "print('descending order of the list using sorted(list,reverse = True)',sorted(lst,reverse=True))"
   ]
  },
  {
   "cell_type": "code",
   "execution_count": 13,
   "metadata": {
    "collapsed": false
   },
   "outputs": [
    {
     "name": "stdout",
     "output_type": "stream",
     "text": [
      "[1, 2, 12, 27, 32, 33, 43, 65, 87, 101, 888]\n",
      "(888, 101, 87, 65, 43, 33, 32, 27, 12, 2, 1)\n"
     ]
    }
   ],
   "source": [
    "# sorting tuples - only use sorted()\n",
    "# when using sorted on a tuples return as a list\n",
    "# must convert \n",
    "tup = 1,2,33,43,27,87,888,65,32,101,12\n",
    "print(sorted(tup))  # notice it returns as a list\n",
    "print(tuple(sorted(tup, reverse = True)))  # convert to back to a tuple\n"
   ]
  },
  {
   "cell_type": "code",
   "execution_count": 14,
   "metadata": {
    "collapsed": false
   },
   "outputs": [
    {
     "ename": "AttributeError",
     "evalue": "'tuple' object has no attribute 'sort'",
     "output_type": "error",
     "traceback": [
      "\u001b[0;31m---------------------------------------------------------------------------\u001b[0m",
      "\u001b[0;31mAttributeError\u001b[0m                            Traceback (most recent call last)",
      "\u001b[0;32m/tmp/ipykernel_815/1764164405.py\u001b[0m in \u001b[0;36m<cell line: 2>\u001b[0;34m()\u001b[0m\n\u001b[1;32m      1\u001b[0m \u001b[0;31m# tuple is immutable not able to use .sort()\u001b[0m\u001b[0;34m\u001b[0m\u001b[0;34m\u001b[0m\u001b[0;34m\u001b[0m\u001b[0m\n\u001b[0;32m----> 2\u001b[0;31m \u001b[0mtup\u001b[0m\u001b[0;34m.\u001b[0m\u001b[0msort\u001b[0m\u001b[0;34m(\u001b[0m\u001b[0;34m)\u001b[0m\u001b[0;34m\u001b[0m\u001b[0;34m\u001b[0m\u001b[0m\n\u001b[0m",
      "\u001b[0;31mAttributeError\u001b[0m: 'tuple' object has no attribute 'sort'"
     ]
    }
   ],
   "source": [
    "# tuple is immutable not able to use .sort()\n",
    "tup.sort()"
   ]
  },
  {
   "cell_type": "code",
   "execution_count": 18,
   "metadata": {
    "collapsed": false
   },
   "outputs": [
    {
     "name": "stdout",
     "output_type": "stream",
     "text": [
      "sorting by index 0 [[-3, 4], [-1, -2], [0, 0], [1, -2], [22, 21]]\n",
      "sorting by index 1 [[-1, -2], [1, -2], [0, 0], [-3, 4], [22, 21]]\n"
     ]
    }
   ],
   "source": [
    "# sort a key\n",
    "# by default on nested list - sort by the first element to sort\n",
    "\n",
    "lst = [[1,-2],[-3,4],[-1,-2],[0,0],[22,21]]\n",
    "\n",
    "lst.sort()\n",
    "print('sorting by index 0',lst)\n",
    "\n",
    "# how to sort by the second element\n",
    "# create a function and then using keyword 'key'\n",
    "\n",
    "def sort_second_index(item):\n",
    "    return item[1]\n",
    "\n",
    "lst.sort(key=sort_second_index)\n",
    "print('sorting by index 1',lst)"
   ]
  },
  {
   "cell_type": "code",
   "execution_count": 0,
   "metadata": {
    "collapsed": false
   },
   "outputs": [
   ],
   "source": [
   ]
  }
 ],
 "metadata": {
  "kernelspec": {
   "display_name": "Python 3 (system-wide)",
   "language": "python",
   "metadata": {
    "cocalc": {
     "description": "Python 3 programming language",
     "priority": 100,
     "url": "https://www.python.org/"
    }
   },
   "name": "python3",
   "resource_dir": "/ext/jupyter/kernels/python3"
  },
  "language_info": {
   "codemirror_mode": {
    "name": "ipython",
    "version": 3
   },
   "file_extension": ".py",
   "mimetype": "text/x-python",
   "name": "python",
   "nbconvert_exporter": "python",
   "pygments_lexer": "ipython3",
   "version": "3.8.10"
  }
 },
 "nbformat": 4,
 "nbformat_minor": 4
}