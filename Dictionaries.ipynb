{
 "cells": [
  {
   "cell_type": "code",
   "execution_count": 5,
   "metadata": {
    "collapsed": false
   },
   "outputs": [
    {
     "name": "stdout",
     "output_type": "stream",
     "text": [
      "hello 5\n"
     ]
    }
   ],
   "source": [
    "# Store key value pairs\n",
    "# unordered object - all the items in the dictionary are not maintained in the order we insert them\n",
    "# key -> value\n",
    "\n",
    "# create a dictionary\n",
    "dict_x = {2:'hello','1':5}  #{key:value} keys and values can be any data type\n",
    "\n",
    "print(dict_x[2], dict_x['1'])"
   ]
  },
  {
   "cell_type": "code",
   "execution_count": 9,
   "metadata": {
    "collapsed": false
   },
   "outputs": [
    {
     "name": "stdout",
     "output_type": "stream",
     "text": [
      "value\n",
      "24\n",
      "(555)-555-5555\n"
     ]
    }
   ],
   "source": [
    "# adding values to an dictionary\n",
    "\n",
    "x = {}  # curly brackets for dictionaries\n",
    "\n",
    "x['key'] = 'value'  # created a key and the value\n",
    "x['Ashley'] = '(555)-555-5555'\n",
    "print(x['key'])\n",
    "\n",
    "# what happens if we try to add an item that is already in the dictionary?\n",
    "x['key'] = 24  # what happens is this value will override the old value in the dictionary\n",
    "\n",
    "print(x['key'])  \n",
    "print(x['Ashley'])"
   ]
  },
  {
   "cell_type": "code",
   "execution_count": 10,
   "metadata": {
    "collapsed": false
   },
   "outputs": [
    {
     "ename": "KeyError",
     "evalue": "'key2'",
     "output_type": "error",
     "traceback": [
      "\u001b[0;31m---------------------------------------------------------------------------\u001b[0m",
      "\u001b[0;31mKeyError\u001b[0m                                  Traceback (most recent call last)",
      "\u001b[0;32m/tmp/ipykernel_383/1123378053.py\u001b[0m in \u001b[0;36m<cell line: 7>\u001b[0;34m()\u001b[0m\n\u001b[1;32m      5\u001b[0m \u001b[0mx\u001b[0m\u001b[0;34m[\u001b[0m\u001b[0;34m'key'\u001b[0m\u001b[0;34m]\u001b[0m \u001b[0;34m=\u001b[0m \u001b[0;34m'value'\u001b[0m  \u001b[0;31m# created a key and the value\u001b[0m\u001b[0;34m\u001b[0m\u001b[0;34m\u001b[0m\u001b[0m\n\u001b[1;32m      6\u001b[0m \u001b[0;34m\u001b[0m\u001b[0m\n\u001b[0;32m----> 7\u001b[0;31m \u001b[0mprint\u001b[0m\u001b[0;34m(\u001b[0m\u001b[0mx\u001b[0m\u001b[0;34m[\u001b[0m\u001b[0;34m'key2'\u001b[0m\u001b[0;34m]\u001b[0m\u001b[0;34m)\u001b[0m\u001b[0;34m\u001b[0m\u001b[0;34m\u001b[0m\u001b[0m\n\u001b[0m",
      "\u001b[0;31mKeyError\u001b[0m: 'key2'"
     ]
    }
   ],
   "source": [
    "# try to access a key that does not exist?\n",
    "\n",
    "x = {}  # curly brackets for dictionaries\n",
    "\n",
    "x['key'] = 'value'  # created a key and the value\n",
    "\n",
    "print(x['key2'])  # error"
   ]
  },
  {
   "cell_type": "code",
   "execution_count": 11,
   "metadata": {
    "collapsed": false
   },
   "outputs": [
    {
     "name": "stdout",
     "output_type": "stream",
     "text": [
      "{}\n"
     ]
    }
   ],
   "source": [
    "# another way to create a dictionary\n",
    "# use the dict() function\n",
    "\n",
    "x = dict()  #initialize dictionary\n",
    "\n",
    "print(x)"
   ]
  },
  {
   "cell_type": "code",
   "execution_count": 13,
   "metadata": {
    "collapsed": false
   },
   "outputs": [
    {
     "name": "stdout",
     "output_type": "stream",
     "text": [
      "{1: 1, 2: 2, 3: 3, 4: 4}\n",
      "{2: 2, 3: 3, 4: 4}\n"
     ]
    }
   ],
   "source": [
    "# how to delete items in the dictionary\n",
    "\n",
    "x = {1:1,2:2,3:3,4:4}\n",
    "print(x)\n",
    "\n",
    "del x[1]  # del is the keyword for delete.\n",
    "print(x)\n"
   ]
  },
  {
   "cell_type": "code",
   "execution_count": 17,
   "metadata": {
    "collapsed": false
   },
   "outputs": [
    {
     "name": "stdout",
     "output_type": "stream",
     "text": [
      "1 is a key in the x dictionary: False || 2 is a key in the x dictionary: True\n"
     ]
    }
   ],
   "source": [
    "# how to check if a key is in the dictionary\n",
    "\n",
    "contains1 = 1 in x  # this will let us know if a key named 1 exist in the dictionary named x\n",
    "contains2 = 2 in x\n",
    "print(f'1 is a key in the x dictionary: {contains1} || 2 is a key in the x dictionary: {contains2}')"
   ]
  },
  {
   "cell_type": "code",
   "execution_count": 20,
   "metadata": {
    "collapsed": false
   },
   "outputs": [
    {
     "name": "stdout",
     "output_type": "stream",
     "text": [
      "List of values in the x dictionary: dict_values([2, 3, 4])\n",
      "2\n"
     ]
    }
   ],
   "source": [
    "# how to check the value is in the dictionary\n",
    "\n",
    "values = x.values()\n",
    "print(f'List of values in the x dictionary: {values}')\n",
    "\n",
    "# to access dictionary single value by the index convert into a list\n",
    "values = list(values)\n",
    "print(values[0])"
   ]
  },
  {
   "cell_type": "code",
   "execution_count": 24,
   "metadata": {
    "collapsed": false
   },
   "outputs": [
    {
     "name": "stdout",
     "output_type": "stream",
     "text": [
      "List of keys in the x dictionary: dict_keys([2, 3, 4]) \n",
      "4\n"
     ]
    }
   ],
   "source": [
    "# how to check the keys is in the dictionary\n",
    "\n",
    "keys = x.keys()\n",
    "print(f'List of keys in the x dictionary: {keys} ')\n",
    "\n",
    "# to access dictionary single key by the index convert into a list\n",
    "keys = list(keys)\n",
    "print(keys[2])\n"
   ]
  },
  {
   "cell_type": "code",
   "execution_count": 29,
   "metadata": {
    "collapsed": false
   },
   "outputs": [
    {
     "name": "stdout",
     "output_type": "stream",
     "text": [
      "Returns a tuple with the keys and values as a pair: dict_items([(2, 2), (3, 3), (4, 4)])\n",
      "(3, 3)\n"
     ]
    }
   ],
   "source": [
    "# how to see both keys and values in the dictionary\n",
    "\n",
    "items = x.items()\n",
    "print(f'Returns a tuple with the keys and values as a pair: {items}')\n",
    "\n",
    "# to access dictionary single item by the index convert into a list\n",
    "items = list(items)\n",
    "print(items[1])"
   ]
  },
  {
   "cell_type": "code",
   "execution_count": 30,
   "metadata": {
    "collapsed": false
   },
   "outputs": [
    {
     "name": "stdout",
     "output_type": "stream",
     "text": [
      "3\n"
     ]
    }
   ],
   "source": [
    "# how to find the length of the dictionary and loop through the dictionary\n",
    "\n",
    "print(len(x))  # each key:item == one pair\n"
   ]
  },
  {
   "cell_type": "code",
   "execution_count": 34,
   "metadata": {
    "collapsed": false
   },
   "outputs": [
    {
     "name": "stdout",
     "output_type": "stream",
     "text": [
      "one 1\n",
      "two 2\n",
      "three 3\n",
      "four 4\n",
      "----------\n",
      "one 1\n",
      "two 2\n",
      "three 3\n",
      "four 4\n"
     ]
    }
   ],
   "source": [
    "# looping through a dictionary\n",
    "\n",
    "x = {'one':1,'two':2,'three':3,'four':4}\n",
    "\n",
    "for key in x:  # loop through dictionary by key\n",
    "    value = x[key]  # use the key to access the value link to it\n",
    "    print(key,value)\n",
    "    \n",
    "print('-'*10)\n",
    "\n",
    "# More elegant way to loop through a dictionary\n",
    "for key,value in x.items():  # items output are tuples (key,value) getting every tuple and decomposing to its key and value\n",
    "    print(key,value)\n"
   ]
  },
  {
   "cell_type": "code",
   "execution_count": 37,
   "metadata": {
    "collapsed": false
   },
   "outputs": [
    {
     "name": "stdout",
     "output_type": "stream",
     "text": [
      "{'one': 1, 'two': 2, 'three': 3, 'four': 4}\n",
      "{'one': 1, 'two': 2, 'three': 3, 'four': 4, 4: 1}\n",
      "{'one': 2, 'two': 2, 'three': 3, 'four': 4, 4: 1}\n"
     ]
    }
   ],
   "source": [
    "# .get() method is used to add a key and value if that key does not exist - if key exist then the value will change\n",
    "\n",
    "x = {'one':1,'two':2,'three':3,'four':4}\n",
    "print(x)\n",
    "\n",
    "x[4] = x.get(4,0) + 1  # x[4]look for key labeled and give the value of the key if it exist if it does not exist =\n",
    "                      # x.get(4,0)create a key 4 AND 0 as the value and then add 1 to the value\n",
    "print(x)\n",
    "\n",
    "# what if the key does exist?\n",
    "# checking for the key labeled 'one'\n",
    "\n",
    "x['one'] = x.get('one',0) + 1 # if the key exist then we will just add 1 to the value\n",
    "print(x)"
   ]
  },
  {
   "cell_type": "code",
   "execution_count": 47,
   "metadata": {
    "cocalc": {
     "outputs": {
      "1": {
       "name": "input",
       "opts": {
        "password": false,
        "prompt": "Enter a number: (enter q to quit)"
       },
       "output_type": "stream",
       "value": "2"
      },
      "10": {
       "name": "input",
       "opts": {
        "password": false,
        "prompt": "Enter a number: (enter q to quit)"
       },
       "output_type": "stream",
       "value": "q"
      },
      "2": {
       "name": "input",
       "opts": {
        "password": false,
        "prompt": "Enter a number: (enter q to quit)"
       },
       "output_type": "stream",
       "value": "3"
      },
      "3": {
       "name": "input",
       "opts": {
        "password": false,
        "prompt": "Enter a number: (enter q to quit)"
       },
       "output_type": "stream",
       "value": "44"
      },
      "4": {
       "name": "input",
       "opts": {
        "password": false,
        "prompt": "Enter a number: (enter q to quit)"
       },
       "output_type": "stream",
       "value": "55"
      },
      "5": {
       "name": "input",
       "opts": {
        "password": false,
        "prompt": "Enter a number: (enter q to quit)"
       },
       "output_type": "stream",
       "value": "2"
      },
      "6": {
       "name": "input",
       "opts": {
        "password": false,
        "prompt": "Enter a number: (enter q to quit)"
       },
       "output_type": "stream",
       "value": "3"
      },
      "7": {
       "name": "input",
       "opts": {
        "password": false,
        "prompt": "Enter a number: (enter q to quit)"
       },
       "output_type": "stream",
       "value": "1232"
      },
      "8": {
       "name": "input",
       "opts": {
        "password": false,
        "prompt": "Enter a number: (enter q to quit)"
       },
       "output_type": "stream",
       "value": "1232"
      },
      "9": {
       "name": "input",
       "opts": {
        "password": false,
        "prompt": "Enter a number: (enter q to quit)"
       },
       "output_type": "stream",
       "value": "3"
      }
     }
    },
    "collapsed": false
   },
   "outputs": [
    {
     "name": "stdout",
     "output_type": "stream",
     "text": [
      "{'H': 1, 'e': 1, 'l': 3, 'o': 2, ' ': 1, 'W': 1, 'r': 1, 'd': 1}\n"
     ]
    },
    {
     "name": "stdout",
     "output_type": "stream",
     "text": "Enter a number: (enter q to quit) 2"
    },
    {
     "name": "stdout",
     "output_type": "stream",
     "text": "Enter a number: (enter q to quit) 3"
    },
    {
     "name": "stdout",
     "output_type": "stream",
     "text": "Enter a number: (enter q to quit) 44"
    },
    {
     "name": "stdout",
     "output_type": "stream",
     "text": "Enter a number: (enter q to quit) 55"
    },
    {
     "name": "stdout",
     "output_type": "stream",
     "text": "Enter a number: (enter q to quit) 2"
    },
    {
     "name": "stdout",
     "output_type": "stream",
     "text": "Enter a number: (enter q to quit) 3"
    },
    {
     "name": "stdout",
     "output_type": "stream",
     "text": "Enter a number: (enter q to quit) 1232"
    },
    {
     "name": "stdout",
     "output_type": "stream",
     "text": "Enter a number: (enter q to quit) 1232"
    },
    {
     "name": "stdout",
     "output_type": "stream",
     "text": "Enter a number: (enter q to quit) 3"
    },
    {
     "name": "stdout",
     "output_type": "stream",
     "text": "Enter a number: (enter q to quit) q"
    },
    {
     "name": "stdout",
     "output_type": "stream",
     "text": [
      "{2: 2, 3: 3, 44: 1, 55: 1, 1232: 2}\n"
     ]
    }
   ],
   "source": [
    "# Examples on using a dictionary\n",
    "# When you don't care about the order of the items\n",
    "# Used when you care about the presence of something - if something exist and you want to store info about that thing\n",
    "\n",
    "characters = {}\n",
    "\n",
    "# build this dictionary by looping through a string\n",
    "string = 'Hello World'\n",
    "\n",
    "# count how many times an character occurs by adding their values and keys into the dictionary.\n",
    "for char in string:\n",
    "    characters[char] = characters.get(char,0) + 1 # if the key doesn't exist value = 0 if it does exist add 1 to current value\n",
    "print(characters)\n",
    "\n",
    "\n",
    "# Ask the user to input different values - then count how many times they entered those values\n",
    "\n",
    "count = {}\n",
    "\n",
    "while True:\n",
    "    num = input('Enter a number: (enter q to quit)')\n",
    "    if num.lower() == 'q':\n",
    "        break\n",
    "    # add what they typed to the dictionary and count how many times they typed value\n",
    "    num = int(num)\n",
    "    count[num] = count.get(num,0) + 1\n",
    "print(count)"
   ]
  },
  {
   "cell_type": "code",
   "execution_count": 48,
   "metadata": {
    "cocalc": {
     "outputs": {
      "0": {
       "name": "input",
       "opts": {
        "password": false,
        "prompt": "Enter Name: (q to quit)"
       },
       "output_type": "stream",
       "value": "Kelly"
      },
      "1": {
       "name": "input",
       "opts": {
        "password": false,
        "prompt": "Enter Kelly number:"
       },
       "output_type": "stream",
       "value": "(564) 345-2322"
      },
      "2": {
       "name": "input",
       "opts": {
        "password": false,
        "prompt": "Enter Name: (q to quit)"
       },
       "output_type": "stream",
       "value": "Gary"
      },
      "3": {
       "name": "input",
       "opts": {
        "password": false,
        "prompt": "Enter Gary number:"
       },
       "output_type": "stream",
       "value": "(333) 434-1211"
      },
      "4": {
       "name": "input",
       "opts": {
        "password": false,
        "prompt": "Enter Name: (q to quit)"
       },
       "output_type": "stream",
       "value": "q"
      }
     }
    },
    "collapsed": false
   },
   "outputs": [
    {
     "name": "stdout",
     "output_type": "stream",
     "text": "Enter Name: (q to quit) Kelly"
    },
    {
     "name": "stdout",
     "output_type": "stream",
     "text": "Enter Kelly number: (564) 345-2322"
    },
    {
     "name": "stdout",
     "output_type": "stream",
     "text": "Enter Name: (q to quit) Gary"
    },
    {
     "name": "stdout",
     "output_type": "stream",
     "text": "Enter Gary number: (333) 434-1211"
    },
    {
     "name": "stdout",
     "output_type": "stream",
     "text": "Enter Name: (q to quit) q"
    },
    {
     "name": "stdout",
     "output_type": "stream",
     "text": [
      "{'Kelly': '(564) 345-2322', 'Gary': '(333) 434-1211'}\n"
     ]
    }
   ],
   "source": [
    "# Add a name and number to dictionary\n",
    "phonebook = dict()\n",
    "while True:\n",
    "    name = input('Enter Name: (q to quit)')\n",
    "    if name == 'q':\n",
    "        break\n",
    "    number = input(f'Enter {name} number:')\n",
    "    phonebook[name] = phonebook.get(name,number)\n",
    "print(phonebook)"
   ]
  },
  {
   "cell_type": "code",
   "execution_count": 53,
   "metadata": {
    "collapsed": false
   },
   "outputs": [
    {
     "name": "stdout",
     "output_type": "stream",
     "text": [
      "Contact: Kelly - (564) 345-2322\n",
      "\n",
      "Contact: Gary - (333) 434-1211\n",
      "\n"
     ]
    }
   ],
   "source": [
    "for contact,number in phonebook.items():\n",
    "    print(f'Contact: {contact} - {number}\\n')"
   ]
  },
  {
   "cell_type": "code",
   "execution_count": 0,
   "metadata": {
    "collapsed": false
   },
   "outputs": [
   ],
   "source": [
   ]
  }
 ],
 "metadata": {
  "kernelspec": {
   "display_name": "Python 3 (system-wide)",
   "language": "python",
   "metadata": {
    "cocalc": {
     "description": "Python 3 programming language",
     "priority": 100,
     "url": "https://www.python.org/"
    }
   },
   "name": "python3",
   "resource_dir": "/ext/jupyter/kernels/python3"
  },
  "language_info": {
   "codemirror_mode": {
    "name": "ipython",
    "version": 3
   },
   "file_extension": ".py",
   "mimetype": "text/x-python",
   "name": "python",
   "nbconvert_exporter": "python",
   "pygments_lexer": "ipython3",
   "version": "3.8.10"
  }
 },
 "nbformat": 4,
 "nbformat_minor": 4
}