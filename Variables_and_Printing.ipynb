{
 "cells": [
  {
   "cell_type": "code",
   "execution_count": 5,
   "metadata": {
    "collapsed": false
   },
   "outputs": [
    {
     "name": "stdout",
     "output_type": "stream",
     "text": [
      "Hello 5 True\n",
      "Timmy\n",
      "First line \n",
      "Newline\n",
      "Hello|Not using default newline character in keyword argument end I am using |\n"
     ]
    }
   ],
   "source": [
    "print('Hello',5,True)  # print multiple values in print functions using commas\n",
    "print('Timmy')  # automatically goes to new line - reason is because \\n (newline character) - tells console to go to new line\n",
    "print('First line \\nNewline') # able to print just newline character \n",
    "print('Hello', end ='|')  # override keyword argument name end by default end = '\\n'\n",
    "print('Not using default newline character in keyword argument end I am using |')\n"
   ]
  },
  {
   "cell_type": "code",
   "execution_count": 11,
   "metadata": {
    "collapsed": false
   },
   "outputs": [
    {
     "name": "stdout",
     "output_type": "stream",
     "text": [
      "3\n",
      "3 Hello\n",
      "Hello Hello\n",
      "3\n"
     ]
    }
   ],
   "source": [
    "# A variable is a container that stores values\n",
    "# Helps us manipulate values\n",
    "# Basic variables\n",
    "variable_one = 3 \n",
    "\n",
    "print(variable_one)  # output value \n",
    "\n",
    "x = 'Hello'\n",
    "print(variable_one,x)\n",
    "\n",
    "num = x  # assigning a variable to another variable\n",
    "print(num,x)\n",
    "\n",
    "x = variable_one\n",
    "print(x) # variables can be manipulated"
   ]
  },
  {
   "cell_type": "code",
   "execution_count": 14,
   "metadata": {
    "collapsed": false
   },
   "outputs": [
    {
     "name": "stdout",
     "output_type": "stream",
     "text": [
      "Bye\n",
      "3\n",
      "Bye\n",
      "3\n",
      "25\n"
     ]
    }
   ],
   "source": [
    "y = 'Bye'\n",
    "print(y)\n",
    "x = 3\n",
    "print(x)\n",
    "num = y\n",
    "print(num)\n",
    "y = x\n",
    "print(y)\n",
    "x = 25\n",
    "print(x)\n",
    "# lines are being executed as we assign variables - executes from top to bottom"
   ]
  },
  {
   "cell_type": "code",
   "execution_count": 17,
   "metadata": {
    "collapsed": false
   },
   "outputs": [
    {
     "name": "stdout",
     "output_type": "stream",
     "text": [
      "variable name = Jason and Variable Name = Bill\n"
     ]
    }
   ],
   "source": [
    "# Rules for naming variables\n",
    "# should be naming variables according to use\n",
    "name = 'Jason'  # this variable holds names\n",
    "# must start variables with a letter\n",
    "# can start variable with an underscore\n",
    "_name = 'Gary'\n",
    "name2 = 'Lawson'\n",
    "name_two = 'Pat'  # snake case is perferred in Python\n",
    "# no spaces in variable name\n",
    "# no special characters - $ # % &\n",
    "# case sensitive\n",
    "Name = 'Bill'\n",
    "print(f'variable name = {name} and Variable Name = {Name}')\n",
    "# stay away from uppercase variables - uppercase used for classes\n"
   ]
  },
  {
   "cell_type": "code",
   "execution_count": 0,
   "metadata": {
    "collapsed": false
   },
   "outputs": [
   ],
   "source": [
   ]
  }
 ],
 "metadata": {
  "kernelspec": {
   "display_name": "Python 3 (system-wide)",
   "language": "python",
   "metadata": {
    "cocalc": {
     "description": "Python 3 programming language",
     "priority": 100,
     "url": "https://www.python.org/"
    }
   },
   "name": "python3",
   "resource_dir": "/ext/jupyter/kernels/python3"
  },
  "language_info": {
   "codemirror_mode": {
    "name": "ipython",
    "version": 3
   },
   "file_extension": ".py",
   "mimetype": "text/x-python",
   "name": "python",
   "nbconvert_exporter": "python",
   "pygments_lexer": "ipython3",
   "version": "3.8.10"
  }
 },
 "nbformat": 4,
 "nbformat_minor": 4
}