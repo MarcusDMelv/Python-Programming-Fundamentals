{
 "cells": [
  {
   "cell_type": "code",
   "execution_count": 8,
   "metadata": {
    "collapsed": false
   },
   "outputs": [
    {
     "name": "stdout",
     "output_type": "stream",
     "text": [
      "0\n",
      "Hello\n",
      "1\n",
      "Hello\n",
      "2\n",
      "Hello\n",
      "3\n",
      "Hello\n",
      "4\n",
      "Hello\n",
      "5\n",
      "Hello\n",
      "6\n",
      "Hello\n",
      "7\n",
      "Hello\n",
      "8\n",
      "Hello\n",
      "9\n",
      "Hello\n"
     ]
    }
   ],
   "source": [
    "# loops are blocks of code that can be executed multiple time\n",
    "\n",
    "for i in range(10): # basic function of for loop\n",
    "    print(i)\n",
    "    print('Hello')"
   ]
  },
  {
   "cell_type": "code",
   "execution_count": 11,
   "metadata": {
    "collapsed": false
   },
   "outputs": [
    {
     "name": "stdout",
     "output_type": "stream",
     "text": [
      "1\n",
      "2\n",
      "3\n",
      "4\n",
      "5\n",
      "6\n",
      "7\n",
      "8\n",
      "9\n",
      "10\n",
      "11\n",
      "12\n",
      "13\n",
      "14\n",
      "15\n",
      "16\n",
      "17\n",
      "18\n",
      "19\n",
      "20\n"
     ]
    }
   ],
   "source": [
    "for i in range(20): # i keeps track of ther iteration\n",
    "    print(i+1) # i starts at 0"
   ]
  },
  {
   "cell_type": "code",
   "execution_count": 14,
   "metadata": {
    "collapsed": false
   },
   "outputs": [
    {
     "name": "stdout",
     "output_type": "stream",
     "text": [
      "5\n",
      "10\n",
      "15\n",
      "20\n"
     ]
    }
   ],
   "source": [
    "for i in range(5,21,5): # able to (start,stop,step) / able to do a combination of agruments\n",
    "    print(i)"
   ]
  },
  {
   "cell_type": "code",
   "execution_count": 15,
   "metadata": {
    "collapsed": false
   },
   "outputs": [
    {
     "name": "stdout",
     "output_type": "stream",
     "text": [
      "-5\n",
      "-10\n",
      "-15\n"
     ]
    }
   ],
   "source": [
    "# able to use negative values\n",
    "for i in range(-5,-20,-5):\n",
    "    print(i)"
   ]
  },
  {
   "cell_type": "code",
   "execution_count": 16,
   "metadata": {
    "collapsed": false
   },
   "outputs": [
    {
     "name": "stdout",
     "output_type": "stream",
     "text": [
      "1\n",
      "2\n",
      "3\n",
      "4\n",
      "5\n",
      "6\n",
      "7\n",
      "8\n",
      "9\n",
      "10\n",
      "55\n"
     ]
    }
   ],
   "source": [
    "# write a for loop that can sum the numbers 1 and 10\n",
    "result = 0\n",
    "for i in range(1,11): # include 10 in the for loop\n",
    "    print(i)\n",
    "    result += i # adding i to result // result = result + i\n",
    "print(result)"
   ]
  },
  {
   "cell_type": "code",
   "execution_count": 31,
   "metadata": {
    "collapsed": false
   },
   "outputs": [
    {
     "name": "stdout",
     "output_type": "stream",
     "text": [
      "1\n",
      "2\n",
      "3\n",
      "4\n",
      "5\n",
      "True\n",
      "False\n"
     ]
    }
   ],
   "source": [
    "# looping through collections\n",
    "\n",
    "rand_list = list(range(1,6))\n",
    "rand_list.append(True)\n",
    "rand_list.append(False)\n",
    "\n",
    "for index in range(len(rand_list)):\n",
    "    print(rand_list[index])"
   ]
  },
  {
   "cell_type": "code",
   "execution_count": 30,
   "metadata": {
    "collapsed": false
   },
   "outputs": [
    {
     "name": "stdout",
     "output_type": "stream",
     "text": [
      "1\n",
      "2\n",
      "3\n",
      "4\n",
      "5\n",
      "True\n",
      "False\n"
     ]
    }
   ],
   "source": [
    "# only issue with this way is we don't know indicies\n",
    "\n",
    "rand_list = list(range(1,6))\n",
    "rand_list.append(True)\n",
    "rand_list.append(False)\n",
    "\n",
    "for element in rand_list:\n",
    "    print(element)"
   ]
  },
  {
   "cell_type": "code",
   "execution_count": 34,
   "metadata": {
    "collapsed": false
   },
   "outputs": [
    {
     "name": "stdout",
     "output_type": "stream",
     "text": [
      "index: 0 -> element: 1\n",
      "index: 1 -> element: 2\n",
      "index: 2 -> element: 3\n",
      "index: 3 -> element: 4\n",
      "index: 4 -> element: 5\n",
      "index: 5 -> element: True\n",
      "index: 6 -> element: False\n"
     ]
    }
   ],
   "source": [
    "# way to get access to element and indicies - Using the enumerate keyword\n",
    "\n",
    "rand_list = list(range(1,6))\n",
    "rand_list.append(True)\n",
    "rand_list.append(False)\n",
    "\n",
    "for i , element in enumerate(rand_list):\n",
    "    print(f'index: {i} -> element: {element}')"
   ]
  },
  {
   "cell_type": "code",
   "execution_count": 39,
   "metadata": {
    "collapsed": false
   },
   "outputs": [
    {
     "name": "stdout",
     "output_type": "stream",
     "text": [
      "index: 0 -> element: 1\n",
      "1\n",
      "index: 1 -> element: 2\n",
      "2\n",
      "index: 2 -> element: Google\n",
      "Google\n",
      "index: 3 -> element: True\n",
      "True\n",
      "index: 4 -> element: 55\n",
      "55\n"
     ]
    }
   ],
   "source": [
    "# enumerate through tuples\n",
    "\n",
    "rand_tup = 1,2,'Google',True,55\n",
    "\n",
    "for i,element in enumerate(rand_tup):\n",
    "    print(f'index: {i} -> element: {element}')"
   ]
  },
  {
   "cell_type": "code",
   "execution_count": 47,
   "metadata": {
    "collapsed": false
   },
   "outputs": [
    {
     "name": "stdout",
     "output_type": "stream",
     "text": [
      "index: 0 -> character: M\n",
      "index: 1 -> character: y\n",
      "index: 2 -> character:  \n",
      "index: 3 -> character: s\n",
      "index: 4 -> character: t\n",
      "index: 5 -> character: r\n",
      "index: 6 -> character: i\n",
      "index: 7 -> character: n\n",
      "index: 8 -> character: g\n",
      "index: 9 -> character:  \n",
      "index: 10 -> character: i\n",
      "index: 11 -> character: s\n",
      "index: 12 -> character:  \n",
      "index: 13 -> character: h\n",
      "index: 14 -> character: e\n",
      "index: 15 -> character: r\n",
      "index: 16 -> character: e\n"
     ]
    }
   ],
   "source": [
    "# enumerate through a string\n",
    "\n",
    "s = 'My string is here'\n",
    "\n",
    "for i,char in enumerate(s):\n",
    "    print(f'index: {i} -> character: {char}')"
   ]
  },
  {
   "cell_type": "code",
   "execution_count": 49,
   "metadata": {
    "collapsed": false
   },
   "outputs": [
    {
     "name": "stdout",
     "output_type": "stream",
     "text": [
      "M\n",
      " \n",
      "t\n",
      "i\n",
      "g\n",
      "i\n",
      " \n",
      "e\n",
      "e\n"
     ]
    }
   ],
   "source": [
    "# if you wanted to grab every other character in string\n",
    "s = 'My string is here'\n",
    "\n",
    "for i in range(0,len(s),2): # use step in argument\n",
    "    print(s[i])"
   ]
  },
  {
   "cell_type": "code",
   "execution_count": 54,
   "metadata": {
    "collapsed": false
   },
   "outputs": [
    {
     "name": "stdout",
     "output_type": "stream",
     "text": [
      "2\n",
      "3\n",
      "3.5\n",
      "True\n",
      "4.5\n",
      "\n",
      "No longer iterating through the list\n"
     ]
    }
   ],
   "source": [
    "# break keyword - once condition is met the program will stop and output the elements before condition was met\n",
    "\n",
    "lst = [2,3,3.5,True,4.5,4,4,5,]\n",
    "\n",
    "# if we see a four in the list how do we stop iterating?\n",
    "\n",
    "for i,num in enumerate(lst):\n",
    "    if num == 4:  # check for the element and once its reached we will break the code\n",
    "        break\n",
    "    print(num)  # print the elements that was iterated before the break\n",
    "\n",
    "print('\\nNo longer iterating through the list')  # no longer in the for loop\n",
    "\n"
   ]
  },
  {
   "cell_type": "code",
   "execution_count": 56,
   "metadata": {
    "collapsed": false
   },
   "outputs": [
    {
     "name": "stdout",
     "output_type": "stream",
     "text": [
      "2\n",
      "3\n",
      "3.5\n",
      "True\n",
      "4.5\n",
      "5\n",
      "False\n",
      "10\n",
      "44\n",
      "Hi\n",
      "\n",
      "No longer iterating through the list\n"
     ]
    }
   ],
   "source": [
    "# keyword continue - skips the element that meets the condition but continues to run the program\n",
    "\n",
    "lst = [2,3,3.5,True,4.5,4,4,5,False,10,4,44,'Hi']\n",
    "\n",
    "# if we see a four in the list how do we stop iterating?\n",
    "\n",
    "for i,num in enumerate(lst):\n",
    "    if num == 4:  # check for the element and once its reached skip the element and goes to next iteration\n",
    "        continue\n",
    "    print(num)  # print the elements that was iterated\n",
    "\n",
    "print('\\nNo longer iterating through the list')  # no longer in the for loop\n",
    "\n"
   ]
  },
  {
   "cell_type": "code",
   "execution_count": 64,
   "metadata": {
    "collapsed": false
   },
   "outputs": [
    {
     "name": "stdout",
     "output_type": "stream",
     "text": [
      "0,0,0 - 0 outter iteration count\n",
      "0,0,1 - 0 outter iteration count\n",
      "0,1,0 - 0 outter iteration count\n",
      "0,1,1 - 0 outter iteration count\n",
      "0,2,0 - 0 outter iteration count\n",
      "0,2,1 - 0 outter iteration count\n",
      "0,3,0 - 0 outter iteration count\n",
      "0,3,1 - 0 outter iteration count\n",
      "0,4,0 - 0 outter iteration count\n",
      "0,4,1 - 0 outter iteration count\n",
      "0,5,0 - 0 outter iteration count\n",
      "0,5,1 - 0 outter iteration count\n",
      "0,6,0 - 0 outter iteration count\n",
      "0,6,1 - 0 outter iteration count\n",
      "0,7,0 - 0 outter iteration count\n",
      "0,7,1 - 0 outter iteration count\n",
      "0,8,0 - 0 outter iteration count\n",
      "0,8,1 - 0 outter iteration count\n",
      "0,9,0 - 0 outter iteration count\n",
      "0,9,1 - 0 outter iteration count\n",
      "1,0,0 - 1 outter iteration count\n",
      "1,0,1 - 1 outter iteration count\n",
      "1,1,0 - 1 outter iteration count\n",
      "1,1,1 - 1 outter iteration count\n",
      "1,2,0 - 1 outter iteration count\n",
      "1,2,1 - 1 outter iteration count\n",
      "1,3,0 - 1 outter iteration count\n",
      "1,3,1 - 1 outter iteration count\n",
      "1,4,0 - 1 outter iteration count\n",
      "1,4,1 - 1 outter iteration count\n",
      "1,5,0 - 1 outter iteration count\n",
      "1,5,1 - 1 outter iteration count\n",
      "1,6,0 - 1 outter iteration count\n",
      "1,6,1 - 1 outter iteration count\n",
      "1,7,0 - 1 outter iteration count\n",
      "1,7,1 - 1 outter iteration count\n",
      "1,8,0 - 1 outter iteration count\n",
      "1,8,1 - 1 outter iteration count\n",
      "1,9,0 - 1 outter iteration count\n",
      "1,9,1 - 1 outter iteration count\n",
      "2,0,0 - 2 outter iteration count\n",
      "2,0,1 - 2 outter iteration count\n",
      "2,1,0 - 2 outter iteration count\n",
      "2,1,1 - 2 outter iteration count\n",
      "2,2,0 - 2 outter iteration count\n",
      "2,2,1 - 2 outter iteration count\n",
      "2,3,0 - 2 outter iteration count\n",
      "2,3,1 - 2 outter iteration count\n",
      "2,4,0 - 2 outter iteration count\n",
      "2,4,1 - 2 outter iteration count\n",
      "2,5,0 - 2 outter iteration count\n",
      "2,5,1 - 2 outter iteration count\n",
      "2,6,0 - 2 outter iteration count\n",
      "2,6,1 - 2 outter iteration count\n",
      "2,7,0 - 2 outter iteration count\n",
      "2,7,1 - 2 outter iteration count\n",
      "2,8,0 - 2 outter iteration count\n",
      "2,8,1 - 2 outter iteration count\n",
      "2,9,0 - 2 outter iteration count\n",
      "2,9,1 - 2 outter iteration count\n",
      "3,0,0 - 3 outter iteration count\n",
      "3,0,1 - 3 outter iteration count\n",
      "3,1,0 - 3 outter iteration count\n",
      "3,1,1 - 3 outter iteration count\n",
      "3,2,0 - 3 outter iteration count\n",
      "3,2,1 - 3 outter iteration count\n",
      "3,3,0 - 3 outter iteration count\n",
      "3,3,1 - 3 outter iteration count\n",
      "3,4,0 - 3 outter iteration count\n",
      "3,4,1 - 3 outter iteration count\n",
      "3,5,0 - 3 outter iteration count\n",
      "3,5,1 - 3 outter iteration count\n",
      "3,6,0 - 3 outter iteration count\n",
      "3,6,1 - 3 outter iteration count\n",
      "3,7,0 - 3 outter iteration count\n",
      "3,7,1 - 3 outter iteration count\n",
      "3,8,0 - 3 outter iteration count\n",
      "3,8,1 - 3 outter iteration count\n",
      "3,9,0 - 3 outter iteration count\n",
      "3,9,1 - 3 outter iteration count\n",
      "4,0,0 - 4 outter iteration count\n",
      "4,0,1 - 4 outter iteration count\n",
      "4,1,0 - 4 outter iteration count\n",
      "4,1,1 - 4 outter iteration count\n",
      "4,2,0 - 4 outter iteration count\n",
      "4,2,1 - 4 outter iteration count\n",
      "4,3,0 - 4 outter iteration count\n",
      "4,3,1 - 4 outter iteration count\n",
      "4,4,0 - 4 outter iteration count\n",
      "4,4,1 - 4 outter iteration count\n",
      "4,5,0 - 4 outter iteration count\n",
      "4,5,1 - 4 outter iteration count\n",
      "4,6,0 - 4 outter iteration count\n",
      "4,6,1 - 4 outter iteration count\n",
      "4,7,0 - 4 outter iteration count\n",
      "4,7,1 - 4 outter iteration count\n",
      "4,8,0 - 4 outter iteration count\n",
      "4,8,1 - 4 outter iteration count\n",
      "4,9,0 - 4 outter iteration count\n",
      "4,9,1 - 4 outter iteration count\n",
      "5,0,0 - 5 outter iteration count\n",
      "5,0,1 - 5 outter iteration count\n",
      "5,1,0 - 5 outter iteration count\n",
      "5,1,1 - 5 outter iteration count\n",
      "5,2,0 - 5 outter iteration count\n",
      "5,2,1 - 5 outter iteration count\n",
      "5,3,0 - 5 outter iteration count\n",
      "5,3,1 - 5 outter iteration count\n",
      "5,4,0 - 5 outter iteration count\n",
      "5,4,1 - 5 outter iteration count\n",
      "5,5,0 - 5 outter iteration count\n",
      "5,5,1 - 5 outter iteration count\n",
      "5,6,0 - 5 outter iteration count\n",
      "5,6,1 - 5 outter iteration count\n",
      "5,7,0 - 5 outter iteration count\n",
      "5,7,1 - 5 outter iteration count\n",
      "5,8,0 - 5 outter iteration count\n",
      "5,8,1 - 5 outter iteration count\n",
      "5,9,0 - 5 outter iteration count\n",
      "5,9,1 - 5 outter iteration count\n",
      "6,0,0 - 6 outter iteration count\n",
      "6,0,1 - 6 outter iteration count\n",
      "6,1,0 - 6 outter iteration count\n",
      "6,1,1 - 6 outter iteration count\n",
      "6,2,0 - 6 outter iteration count\n",
      "6,2,1 - 6 outter iteration count\n",
      "6,3,0 - 6 outter iteration count\n",
      "6,3,1 - 6 outter iteration count\n",
      "6,4,0 - 6 outter iteration count\n",
      "6,4,1 - 6 outter iteration count\n",
      "6,5,0 - 6 outter iteration count\n",
      "6,5,1 - 6 outter iteration count\n",
      "6,6,0 - 6 outter iteration count\n",
      "6,6,1 - 6 outter iteration count\n",
      "6,7,0 - 6 outter iteration count\n",
      "6,7,1 - 6 outter iteration count\n",
      "6,8,0 - 6 outter iteration count\n",
      "6,8,1 - 6 outter iteration count\n",
      "6,9,0 - 6 outter iteration count\n",
      "6,9,1 - 6 outter iteration count\n",
      "7,0,0 - 7 outter iteration count\n",
      "7,0,1 - 7 outter iteration count\n",
      "7,1,0 - 7 outter iteration count\n",
      "7,1,1 - 7 outter iteration count\n",
      "7,2,0 - 7 outter iteration count\n",
      "7,2,1 - 7 outter iteration count\n",
      "7,3,0 - 7 outter iteration count\n",
      "7,3,1 - 7 outter iteration count\n",
      "7,4,0 - 7 outter iteration count\n",
      "7,4,1 - 7 outter iteration count\n",
      "7,5,0 - 7 outter iteration count\n",
      "7,5,1 - 7 outter iteration count\n",
      "7,6,0 - 7 outter iteration count\n",
      "7,6,1 - 7 outter iteration count\n",
      "7,7,0 - 7 outter iteration count\n",
      "7,7,1 - 7 outter iteration count\n",
      "7,8,0 - 7 outter iteration count\n",
      "7,8,1 - 7 outter iteration count\n",
      "7,9,0 - 7 outter iteration count\n",
      "7,9,1 - 7 outter iteration count\n",
      "8,0,0 - 8 outter iteration count\n",
      "8,0,1 - 8 outter iteration count\n",
      "8,1,0 - 8 outter iteration count\n",
      "8,1,1 - 8 outter iteration count\n",
      "8,2,0 - 8 outter iteration count\n",
      "8,2,1 - 8 outter iteration count\n",
      "8,3,0 - 8 outter iteration count\n",
      "8,3,1 - 8 outter iteration count\n",
      "8,4,0 - 8 outter iteration count\n",
      "8,4,1 - 8 outter iteration count\n",
      "8,5,0 - 8 outter iteration count\n",
      "8,5,1 - 8 outter iteration count\n",
      "8,6,0 - 8 outter iteration count\n",
      "8,6,1 - 8 outter iteration count\n",
      "8,7,0 - 8 outter iteration count\n",
      "8,7,1 - 8 outter iteration count\n",
      "8,8,0 - 8 outter iteration count\n",
      "8,8,1 - 8 outter iteration count\n",
      "8,9,0 - 8 outter iteration count\n",
      "8,9,1 - 8 outter iteration count\n",
      "9,0,0 - 9 outter iteration count\n",
      "9,0,1 - 9 outter iteration count\n",
      "9,1,0 - 9 outter iteration count\n",
      "9,1,1 - 9 outter iteration count\n",
      "9,2,0 - 9 outter iteration count\n",
      "9,2,1 - 9 outter iteration count\n",
      "9,3,0 - 9 outter iteration count\n",
      "9,3,1 - 9 outter iteration count\n",
      "9,4,0 - 9 outter iteration count\n",
      "9,4,1 - 9 outter iteration count\n",
      "9,5,0 - 9 outter iteration count\n",
      "9,5,1 - 9 outter iteration count\n",
      "9,6,0 - 9 outter iteration count\n",
      "9,6,1 - 9 outter iteration count\n",
      "9,7,0 - 9 outter iteration count\n",
      "9,7,1 - 9 outter iteration count\n",
      "9,8,0 - 9 outter iteration count\n",
      "9,8,1 - 9 outter iteration count\n",
      "9,9,0 - 9 outter iteration count\n",
      "9,9,1 - 9 outter iteration count\n"
     ]
    }
   ],
   "source": [
    "# nested for loops\n",
    "\n",
    "for i in range(10):\n",
    "    # nested for loops run once for every iteration of the outter for loop - (nested loop)1-10 x 10 times( outter loop)\n",
    "    for j in range(10):\n",
    "        for w in range(2):# 200 iteration 10 x 10 x 2\n",
    "            print(f'{i},{j},{w} - {i} outter iteration count')"
   ]
  },
  {
   "cell_type": "code",
   "execution_count": 2,
   "metadata": {
    "collapsed": false
   },
   "outputs": [
    {
     "name": "stdout",
     "output_type": "stream",
     "text": [
      "[1, 2]\n",
      "1\n",
      "2\n",
      "[3, 4]\n",
      "3\n",
      "4\n",
      "[5, 6]\n",
      "5\n",
      "6\n",
      "[7, 8]\n",
      "7\n",
      "8\n"
     ]
    }
   ],
   "source": [
    "# examples of using nested for loops with nested list\n",
    "\n",
    "lst = [[1,2],[3,4],[5,6],[7,8]]\n",
    "\n",
    "# set up nested for loop structure\n",
    "\n",
    "for i in range(len(lst)):\n",
    "    inner_lst = lst[i] # grabbing the first inner list grabbing [1,2],[3,4],etc\n",
    "    for j in range(len(inner_lst)): # then we will loop through that inner_list 1,2,3,4, etc\n",
    "        print(inner_lst[j])\n",
    "\n"
   ]
  },
  {
   "cell_type": "code",
   "execution_count": 3,
   "metadata": {
    "collapsed": false
   },
   "outputs": [
    {
     "name": "stdout",
     "output_type": "stream",
     "text": [
      "6\n"
     ]
    }
   ],
   "source": [
    "s = 'Hello World'\n",
    "\n",
    "# have a for loop that tells the index of the letter w\n",
    "\n",
    "for i,element in enumerate(s):\n",
    "    if element.lower() == 'w':\n",
    "        print(i)"
   ]
  },
  {
   "cell_type": "code",
   "execution_count": 11,
   "metadata": {
    "cocalc": {
     "outputs": {
      "0": {
       "name": "input",
       "opts": {
        "password": false,
        "prompt": "Enter values here"
       },
       "output_type": "stream",
       "value": "h"
      },
      "1": {
       "name": "input",
       "opts": {
        "password": false,
        "prompt": "Enter values here"
       },
       "output_type": "stream",
       "value": "e"
      },
      "2": {
       "name": "input",
       "opts": {
        "password": false,
        "prompt": "Enter values here"
       },
       "output_type": "stream",
       "value": "l"
      },
      "3": {
       "name": "input",
       "opts": {
        "password": false,
        "prompt": "Enter values here"
       },
       "output_type": "stream",
       "value": "l"
      },
      "4": {
       "name": "input",
       "opts": {
        "password": false,
        "prompt": "Enter values here"
       },
       "output_type": "stream",
       "value": "o"
      }
     }
    },
    "collapsed": false
   },
   "outputs": [
    {
     "name": "stdout",
     "output_type": "stream",
     "text": "Enter values here h"
    },
    {
     "name": "stdout",
     "output_type": "stream",
     "text": "Enter values here e"
    },
    {
     "name": "stdout",
     "output_type": "stream",
     "text": "Enter values here l"
    },
    {
     "name": "stdout",
     "output_type": "stream",
     "text": "Enter values here l"
    },
    {
     "name": "stdout",
     "output_type": "stream",
     "text": "Enter values here o"
    },
    {
     "name": "stdout",
     "output_type": "stream",
     "text": [
      "['h', 'e', 'l', 'l', 'o']\n",
      "hello\n"
     ]
    }
   ],
   "source": [
    "# ask user to input values then store values in a list\n",
    "\n",
    "user_vals = [] # create an empty list outside of for loop\n",
    "\n",
    "for i in range(5):\n",
    "    val = input('Enter values here')\n",
    "    user_vals.append(val) # add each entry to list\n",
    "    \n",
    "print(user_vals) # print list\n",
    "user_val =\"\".join(user_vals) # join list\n",
    "print(user_val)"
   ]
  },
  {
   "cell_type": "code",
   "execution_count": 12,
   "metadata": {
    "collapsed": false
   },
   "outputs": [
   ],
   "source": [
    "# using keyword pass - acts as a place holder so we don't get errors\n",
    "\n",
    "for i in range(10):\n",
    "    pass # place holder for indention\n",
    "\n"
   ]
  },
  {
   "cell_type": "code",
   "execution_count": 18,
   "metadata": {
    "collapsed": false
   },
   "outputs": [
    {
     "name": "stdout",
     "output_type": "stream",
     "text": [
      "hello\n",
      "name\n",
      "I found the word name\n"
     ]
    }
   ],
   "source": [
    "# using the for else statement\n",
    "\n",
    "# lets look in a tuple and see if a certain string exist\n",
    "words = 'hello','name','this','is','word'\n",
    "target = 'name'\n",
    "\n",
    "for i,word in enumerate(words): # dont need index but makes good practice\n",
    "    if word == target:\n",
    "        print(f'I found the word {target}')\n",
    "        break # once target word is foun\n",
    "else:\n",
    "    print(f'I did not find the word {target}')\n",
    "\n"
   ]
  },
  {
   "cell_type": "code",
   "execution_count": 0,
   "metadata": {
    "collapsed": false
   },
   "outputs": [
   ],
   "source": [
   ]
  }
 ],
 "metadata": {
  "kernelspec": {
   "display_name": "Python 3 (system-wide)",
   "language": "python",
   "metadata": {
    "cocalc": {
     "description": "Python 3 programming language",
     "priority": 100,
     "url": "https://www.python.org/"
    }
   },
   "name": "python3",
   "resource_dir": "/ext/jupyter/kernels/python3"
  },
  "language_info": {
   "codemirror_mode": {
    "name": "ipython",
    "version": 3
   },
   "file_extension": ".py",
   "mimetype": "text/x-python",
   "name": "python",
   "nbconvert_exporter": "python",
   "pygments_lexer": "ipython3",
   "version": "3.8.10"
  }
 },
 "nbformat": 4,
 "nbformat_minor": 4
}