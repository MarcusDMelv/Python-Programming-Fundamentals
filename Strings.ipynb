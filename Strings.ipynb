{
 "cells": [
  {
   "cell_type": "code",
   "execution_count": 1,
   "metadata": {
    "collapsed": false
   },
   "outputs": [
    {
     "data": {
      "text/plain": [
       "'h'"
      ]
     },
     "execution_count": 1,
     "metadata": {
     },
     "output_type": "execute_result"
    }
   ],
   "source": [
    "# indexing strings\n",
    "s = 'hello'\n",
    "s[0]"
   ]
  },
  {
   "cell_type": "code",
   "execution_count": 2,
   "metadata": {
    "collapsed": false
   },
   "outputs": [
    {
     "data": {
      "text/plain": [
       "5"
      ]
     },
     "execution_count": 2,
     "metadata": {
     },
     "output_type": "execute_result"
    }
   ],
   "source": [
    "# getting the length of strings\n",
    "s = 'hello'\n",
    "\n",
    "len(s)"
   ]
  },
  {
   "cell_type": "code",
   "execution_count": 3,
   "metadata": {
    "collapsed": false
   },
   "outputs": [
    {
     "data": {
      "text/plain": [
       "2"
      ]
     },
     "execution_count": 3,
     "metadata": {
     },
     "output_type": "execute_result"
    }
   ],
   "source": [
    "# getting the count of a specific character\n",
    "s = 'hello'\n",
    "\n",
    "s.count('l')"
   ]
  },
  {
   "cell_type": "code",
   "execution_count": 5,
   "metadata": {
    "collapsed": false
   },
   "outputs": [
    {
     "name": "stdout",
     "output_type": "stream",
     "text": [
      "0\n",
      "-1\n"
     ]
    }
   ],
   "source": [
    "# find will give us the index of the character we are looking for\n",
    "# if the character does not exist we get a -1\n",
    "s = 'hello'\n",
    "\n",
    "print(s.find('h'))\n",
    "print(s.find('p'))"
   ]
  },
  {
   "cell_type": "code",
   "execution_count": 10,
   "metadata": {
    "cocalc": {
     "outputs": {
      "1": {
       "name": "input",
       "opts": {
        "password": false,
        "prompt": "What is your name: "
       },
       "output_type": "stream",
       "value": "TIM"
      }
     }
    },
    "collapsed": false
   },
   "outputs": [
    {
     "name": "stdout",
     "output_type": "stream",
     "text": [
      "HELLO hello\n"
     ]
    },
    {
     "name": "stdout",
     "output_type": "stream",
     "text": "What is your name:  TIM"
    },
    {
     "name": "stdout",
     "output_type": "stream",
     "text": [
      "awesome\n"
     ]
    }
   ],
   "source": [
    "# able to capitalize all charcters in a string using upper method\n",
    "upper = s.upper()\n",
    "# able to lowercase all charcters in a string using lower method\n",
    "lower = s.lower()\n",
    "print(upper,lower)\n",
    "\n",
    "# this is useful when using user input\n",
    "name = input('What is your name: ')\n",
    "if name.lower() == 'tim':  # not matter how the user types tim it will be lowercased in the expression\n",
    "    print('awesome')\n",
    "else:\n",
    "    print('not cool')"
   ]
  },
  {
   "cell_type": "code",
   "execution_count": 12,
   "metadata": {
    "collapsed": false
   },
   "outputs": [
    {
     "data": {
      "text/plain": [
       "'Algoexpert'"
      ]
     },
     "execution_count": 12,
     "metadata": {
     },
     "output_type": "execute_result"
    }
   ],
   "source": [
    "# using capitalize method to capitalize the first charcter in the string\n",
    "s = 'algoexpert'\n",
    "s.capitalize()"
   ]
  },
  {
   "cell_type": "code",
   "execution_count": 15,
   "metadata": {
    "collapsed": false
   },
   "outputs": [
    {
     "name": "stdout",
     "output_type": "stream",
     "text": [
      "False True\n"
     ]
    }
   ],
   "source": [
    "# using the 'in' method on a string\n",
    "s = 'hello'\n",
    "contains = 'a' in s\n",
    "contains1 = 'o' in s\n",
    "print(contains,contains1)"
   ]
  },
  {
   "cell_type": "code",
   "execution_count": 20,
   "metadata": {
    "collapsed": false
   },
   "outputs": [
    {
     "name": "stdout",
     "output_type": "stream",
     "text": [
      "True\n",
      "False\n",
      "False\n"
     ]
    }
   ],
   "source": [
    "# using isdigit method to tell us if the string has digits or not\n",
    "\n",
    "s = '19'  # maybe we want to convert string to a int or float\n",
    "is_digit = s.isdigit()\n",
    "print(is_digit)  # True\n",
    "\n",
    "s = '19two'  # what if the string has both int and charcters\n",
    "print(s.isdigit())  # False\n",
    "\n",
    "s = '19.2'  # what if the string has a decimal to symbolize a float\n",
    "print(s.isdigit())  # alse"
   ]
  },
  {
   "cell_type": "code",
   "execution_count": 22,
   "metadata": {
    "cocalc": {
     "outputs": {
      "0": {
       "name": "input",
       "opts": {
        "password": false,
        "prompt": "Enter a number"
       },
       "output_type": "stream",
       "value": "abcd"
      }
     }
    },
    "collapsed": false
   },
   "outputs": [
    {
     "name": "stdout",
     "output_type": "stream",
     "text": "Enter a number abcd"
    },
    {
     "name": "stdout",
     "output_type": "stream",
     "text": [
      "abcd is not a number?\n"
     ]
    }
   ],
   "source": [
    "# isdigit method is useful because when asking user for integer you want to make sure they are inputting a integer before converting into a int\n",
    "\n",
    "num = input('Enter a number')\n",
    "if num.isdigit():  # if True then run block of code thats inside of the if statement\n",
    "    print('Thank you for the number')\n",
    "    num = int(num)  # just converted string to an int and saved the conversion as num\n",
    "    print(num + 5)\n",
    "else:  # if False run block of code\n",
    "    print(f'{num} is not a number?')"
   ]
  },
  {
   "cell_type": "code",
   "execution_count": 25,
   "metadata": {
    "collapsed": false
   },
   "outputs": [
    {
     "name": "stdout",
     "output_type": "stream",
     "text": [
      "['It', 'is', 'a', 'nice', 'sunny', 'day', 'outside', 'today']\n",
      "['It', 'is', 'a', 'nice', 'sunny', 'day', 'outside', 'today']\n",
      "['It,is,a,nice,sunny,day,outside,today']\n"
     ]
    }
   ],
   "source": [
    "# .split method allows us to split the string up into a list using a delimitter - default delimitter is a space\n",
    "s = 'It is a nice sunny day outside today'\n",
    "\n",
    "words = s.split() # no argument is passed so the delimitter will default to space\n",
    "print(words)\n",
    "\n",
    "s = 'It,is,a,nice,sunny,day,outside,today'  # say if the string was seperated by commas\n",
    "words = s.split(',')  # we will use a comma as the delimmiter to split by the commas - and the commas will be removed\n",
    "word = s.split()  # if we use the default delimmiter to seperate the list that is seperated by commas\n",
    "print(words)\n",
    "print(word)"
   ]
  },
  {
   "cell_type": "code",
   "execution_count": 2,
   "metadata": {
    "collapsed": false
   },
   "outputs": [
    {
     "name": "stdout",
     "output_type": "stream",
     "text": [
      "It|is|a|nice|sunny|day|outside|today\n",
      "It,is,a,nice,sunny,day,outside,today\n"
     ]
    }
   ],
   "source": [
    "# using .replace method - replace all the characters in our current string with a new charcter and give us a string that has those replacements\n",
    "s = 'It,is,a,nice,sunny,day,outside,today'\n",
    "word = s.replace(',','|')  # this will replace all the commas with a pipe operator\n",
    "print(word)\n",
    "\n",
    "# this does not change the origional list\n",
    "print(s)"
   ]
  },
  {
   "cell_type": "code",
   "execution_count": 4,
   "metadata": {
    "cocalc": {
     "outputs": {
      "0": {
       "name": "input",
       "opts": {
        "password": false,
        "prompt": "Enter your name:"
       },
       "output_type": "stream",
       "value": "Jerry"
      }
     }
    },
    "collapsed": false
   },
   "outputs": [
    {
     "name": "stdout",
     "output_type": "stream",
     "text": "Enter your name: Jerry"
    },
    {
     "name": "stdout",
     "output_type": "stream",
     "text": [
      "Hello Jerry!\n",
      "Jerry are you 24 years old?\n"
     ]
    }
   ],
   "source": [
    "# f strings is a new- its a good way to add expressions to a string\n",
    "\n",
    "name = input('Enter your name:')\n",
    "print(f'Hello {name}!') # plug in expression\n",
    "\n",
    "# able to embed as many expressions as you want\n",
    "print(f'{name} are you {15+9} years old?')  # Can even embed math"
   ]
  },
  {
   "cell_type": "code",
   "execution_count": 5,
   "metadata": {
    "collapsed": false
   },
   "outputs": [
    {
     "name": "stdout",
     "output_type": "stream",
     "text": [
      "JerryJerryJerryJerryJerry\n"
     ]
    }
   ],
   "source": [
    "# string multiplication\n",
    "\n",
    "print(name * 5)  # repeats the string multiplied by 5"
   ]
  },
  {
   "cell_type": "code",
   "execution_count": 6,
   "metadata": {
    "collapsed": false
   },
   "outputs": [
    {
     "name": "stdout",
     "output_type": "stream",
     "text": [
      "Hello my name is Frank and this is a\n",
      "multi line string and not a multi line comment\n"
     ]
    }
   ],
   "source": [
    "# multi line strings - must assign to a variable\n",
    "\n",
    "string = \"\"\"Hello my name is Frank and this is a\n",
    "multi line string and not a multi line comment\"\"\"\n",
    "print(string)"
   ]
  },
  {
   "cell_type": "code",
   "execution_count": 7,
   "metadata": {
    "collapsed": false
   },
   "outputs": [
    {
     "name": "stdout",
     "output_type": "stream",
     "text": [
      "Jerry's\n"
     ]
    }
   ],
   "source": [
    "# escaping characters using a backslash before the character\n",
    "string = f'{name}\\'s'\n",
    "print(string)"
   ]
  },
  {
   "cell_type": "code",
   "execution_count": 12,
   "metadata": {
    "collapsed": false
   },
   "outputs": [
    {
     "name": "stdout",
     "output_type": "stream",
     "text": [
      "tim\n",
      "t-i-m\n",
      "t|i|m\n",
      "t i m\n"
     ]
    }
   ],
   "source": [
    "# using the .join method useful to build a collection into a single string\n",
    "\n",
    "# build a new string from a collection\n",
    "rand_list = ['t','i','m']\n",
    "\n",
    "string = ''.join(rand_list)  # this will join any collection based off what is in the single quotes\n",
    "print(string)\n",
    "string2 = '-'.join(rand_list)\n",
    "print(string2)\n",
    "string3 = '|'.join(rand_list)\n",
    "print(string3)\n",
    "string4 = ' '.join(rand_list)\n",
    "print(string4)"
   ]
  },
  {
   "cell_type": "code",
   "execution_count": 0,
   "metadata": {
    "collapsed": false
   },
   "outputs": [
   ],
   "source": [
   ]
  }
 ],
 "metadata": {
  "kernelspec": {
   "display_name": "Python 3 (system-wide)",
   "language": "python",
   "metadata": {
    "cocalc": {
     "description": "Python 3 programming language",
     "priority": 100,
     "url": "https://www.python.org/"
    }
   },
   "name": "python3",
   "resource_dir": "/ext/jupyter/kernels/python3"
  },
  "language_info": {
   "codemirror_mode": {
    "name": "ipython",
    "version": 3
   },
   "file_extension": ".py",
   "mimetype": "text/x-python",
   "name": "python",
   "nbconvert_exporter": "python",
   "pygments_lexer": "ipython3",
   "version": "3.8.10"
  }
 },
 "nbformat": 4,
 "nbformat_minor": 4
}