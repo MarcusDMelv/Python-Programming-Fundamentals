{
 "cells": [
  {
   "cell_type": "code",
   "execution_count": 8,
   "metadata": {
    "collapsed": false
   },
   "outputs": [
    {
     "name": "stdout",
     "output_type": "stream",
     "text": [
      "[1, 2, 3, True, 'Hello', 3.4]\n"
     ]
    }
   ],
   "source": [
    "# a way to store multiple elements in one data type\n",
    "# doesn't matter the data type in the list\n",
    "x = [1,2,3,True,'Hello',3.4]  # also known as a collecetion\n",
    "# elements are ordered\n",
    "print(x)"
   ]
  },
  {
   "cell_type": "code",
   "execution_count": 9,
   "metadata": {
    "collapsed": false
   },
   "outputs": [
    {
     "data": {
      "text/plain": [
       "1"
      ]
     },
     "execution_count": 9,
     "metadata": {
     },
     "output_type": "execute_result"
    }
   ],
   "source": [
    "x = [1,2,3,True,'Hello',3.4]\n",
    "# indices - \n",
    "# index - the position the element is at in the list\n",
    "# starting from 0\n",
    "x[0]  # access the first element"
   ]
  },
  {
   "cell_type": "code",
   "execution_count": 10,
   "metadata": {
    "collapsed": false
   },
   "outputs": [
    {
     "name": "stdout",
     "output_type": "stream",
     "text": [
      "2\n",
      "3.4\n"
     ]
    }
   ],
   "source": [
    "print(x[1]) # gives us the first element\n",
    "print(x[5]) # gives us the last element of the list"
   ]
  },
  {
   "cell_type": "code",
   "execution_count": 11,
   "metadata": {
    "collapsed": false
   },
   "outputs": [
    {
     "data": {
      "text/plain": [
       "[4, 2, 3, True, 'Hello', 3.4]"
      ]
     },
     "execution_count": 11,
     "metadata": {
     },
     "output_type": "execute_result"
    }
   ],
   "source": [
    "# how to change the element of a list?\n",
    "x[0] = 4  # change index 0 to 4\n",
    "x"
   ]
  },
  {
   "cell_type": "code",
   "execution_count": 5,
   "metadata": {
    "collapsed": false
   },
   "outputs": [
    {
     "ename": "IndexError",
     "evalue": "list assignment index out of range",
     "output_type": "error",
     "traceback": [
      "\u001b[0;31m---------------------------------------------------------------------------\u001b[0m",
      "\u001b[0;31mIndexError\u001b[0m                                Traceback (most recent call last)",
      "\u001b[0;32m/tmp/ipykernel_657/171274476.py\u001b[0m in \u001b[0;36m<cell line: 2>\u001b[0;34m()\u001b[0m\n\u001b[1;32m      1\u001b[0m \u001b[0;31m# not able to add an element to a none existing index\u001b[0m\u001b[0;34m\u001b[0m\u001b[0;34m\u001b[0m\u001b[0;34m\u001b[0m\u001b[0m\n\u001b[0;32m----> 2\u001b[0;31m \u001b[0mx\u001b[0m\u001b[0;34m[\u001b[0m\u001b[0;36m6\u001b[0m\u001b[0;34m]\u001b[0m \u001b[0;34m=\u001b[0m \u001b[0;36m4\u001b[0m  \u001b[0;31m# common error with list\u001b[0m\u001b[0;34m\u001b[0m\u001b[0;34m\u001b[0m\u001b[0m\n\u001b[0m",
      "\u001b[0;31mIndexError\u001b[0m: list assignment index out of range"
     ]
    }
   ],
   "source": [
    "# not able to add an element to a none existing index\n",
    "x[6] = 4  # common error with list"
   ]
  },
  {
   "cell_type": "code",
   "execution_count": 12,
   "metadata": {
    "collapsed": false
   },
   "outputs": [
    {
     "data": {
      "text/plain": [
       "[4, 2, 3, True, 'Hello', 3.4, 'last element']"
      ]
     },
     "execution_count": 12,
     "metadata": {
     },
     "output_type": "execute_result"
    }
   ],
   "source": [
    "# how to add a new element to the END of the list use the method append()\n",
    "x.append('last element')\n",
    "x"
   ]
  },
  {
   "cell_type": "code",
   "execution_count": 13,
   "metadata": {
    "collapsed": false
   },
   "outputs": [
    {
     "data": {
      "text/plain": [
       "7"
      ]
     },
     "execution_count": 13,
     "metadata": {
     },
     "output_type": "execute_result"
    }
   ],
   "source": [
    "# How to get the length of the list\n",
    "len(x)"
   ]
  },
  {
   "cell_type": "code",
   "execution_count": 14,
   "metadata": {
    "collapsed": false
   },
   "outputs": [
    {
     "name": "stdout",
     "output_type": "stream",
     "text": [
      "[4, 2, 3, True, 'Hello', 3.4, 'last element']\n",
      "last element\n",
      "[4, 2, 3, True, 'Hello', 3.4]\n"
     ]
    }
   ],
   "source": [
    "# Other methods we can use for list is pop() which removes last element on the list\n",
    "\n",
    "print(x)  # print current list\n",
    "last_element = x.pop()  # remove last element on list and store in a variable\n",
    "print(last_element)  # print last element\n",
    "print(x)  # show new list"
   ]
  },
  {
   "cell_type": "code",
   "execution_count": 22,
   "metadata": {
    "collapsed": false
   },
   "outputs": [
    {
     "data": {
      "text/plain": [
       "4"
      ]
     },
     "execution_count": 22,
     "metadata": {
     },
     "output_type": "execute_result"
    }
   ],
   "source": [
    "# Other methods we can use for list is count() counts how many times an element occurs in a list\n",
    "\n",
    "x = [1,1,1,1,3,4,5,5,6,2,7,9]\n",
    "count_1 = x.count(1)  # count how many 1's appear in list\n",
    "count_1  # output the total number\n"
   ]
  },
  {
   "cell_type": "code",
   "execution_count": 18,
   "metadata": {
    "collapsed": false
   },
   "outputs": [
    {
     "data": {
      "text/plain": [
       "11"
      ]
     },
     "execution_count": 18,
     "metadata": {
     },
     "output_type": "execute_result"
    }
   ],
   "source": [
    "# Other methods we can use for list is index() gives the index of the first occurence you are looking for\n",
    "\n",
    "index = x.index(9)  # what index is 9?\n",
    "index  # output position\n",
    "\n",
    "# if element is not in list an error will occur\n"
   ]
  },
  {
   "cell_type": "code",
   "execution_count": 23,
   "metadata": {
    "collapsed": false
   },
   "outputs": [
    {
     "name": "stdout",
     "output_type": "stream",
     "text": [
      "[1, 1, 1, 1, 3, 4, 5, 5, 6, 2, 7, 9]\n",
      "[1, 1, 1, 1, 3, 4, 5, 5, 6, 2, 7]\n"
     ]
    }
   ],
   "source": [
    "# Other methods we can use for list is remove() which removes the element that is the argument\n",
    "print(x)  # show list\n",
    "removed = x.remove(9)  # store the elmement removed\n",
    "print(x)  # show updated list\n",
    "\n",
    "# if element does not exist then a error message will show"
   ]
  },
  {
   "cell_type": "code",
   "execution_count": 27,
   "metadata": {
    "collapsed": false
   },
   "outputs": [
    {
     "name": "stdout",
     "output_type": "stream",
     "text": [
      "is 5 in the list True\n",
      "is 22 in the list False\n"
     ]
    }
   ],
   "source": [
    "# Using keyword 'in' to check if an element exist in a list\n",
    "check_list_5 = 5 in x  # store results of the check\n",
    "print(f'is 5 in the list {check_list_5}')  # print the results\n",
    "\n",
    "check_list_22 = 22 in x\n",
    "print(f'is 22 in the list {check_list_22}')  # print the results"
   ]
  },
  {
   "cell_type": "code",
   "execution_count": 31,
   "metadata": {
    "collapsed": false
   },
   "outputs": [
    {
     "name": "stdout",
     "output_type": "stream",
     "text": [
      "[1, 1, 1, 1, 3, 4, 5, 5, 6, 2, 7]\n",
      "7\n",
      "2\n",
      "3\n"
     ]
    }
   ],
   "source": [
    "# negative index - accessing elements in the back of the list\n",
    "# last element in the list is -1\n",
    "print(x)\n",
    "print(x[-1])\n",
    "print(x[-2])\n",
    "print(x[-7])"
   ]
  },
  {
   "cell_type": "code",
   "execution_count": 37,
   "metadata": {
    "collapsed": false
   },
   "outputs": [
    {
     "name": "stdout",
     "output_type": "stream",
     "text": [
      "[1, 2, 'hello', 22, 34]\n",
      "[1, 2, 'hello']\n",
      "[22, 34]\n"
     ]
    }
   ],
   "source": [
    "# combine a list using addition operator\n",
    "x = [1,2,'hello']\n",
    "y = [22,34]\n",
    "\n",
    "combined_list = x + y  # not changing x list or y list\n",
    "print(combined_list)\n",
    "print(x)\n",
    "print(y)"
   ]
  },
  {
   "cell_type": "code",
   "execution_count": 38,
   "metadata": {
    "collapsed": false
   },
   "outputs": [
    {
     "name": "stdout",
     "output_type": "stream",
     "text": [
      "[1, 2, 'hello', 22, 34]\n"
     ]
    }
   ],
   "source": [
    "# combine a list using extend() method\n",
    "x.extend(y)  # this appends all of list y to x\n",
    "print(x)  # perminent change to list\n"
   ]
  },
  {
   "cell_type": "code",
   "execution_count": 45,
   "metadata": {
    "collapsed": false
   },
   "outputs": [
    {
     "name": "stdout",
     "output_type": "stream",
     "text": [
      "2\n",
      "[100]\n",
      "100\n"
     ]
    }
   ],
   "source": [
    "# Nested List / multi demensional list\n",
    "nested_list = [[3,4,[100]],[5,6],[1,2,4],['hello','bye']]  # called a multi demensional list\n",
    "\n",
    "# how to access elements in a multi demensional list is using multiple index operations\n",
    "\n",
    "# how to access the 3rd demensional in the list\n",
    "third_demensional = nested_list[2][1]  # access element '2'\n",
    "print(third_demensional)\n",
    "\n",
    "first_demensional = nested_list[0][-1]  # access element '[100]'\n",
    "print(first_demensional)\n",
    "\n",
    "first_demensional = nested_list[0][-1][0] #[100] is a list itself so we can use another index to access actual 100\n",
    "print(first_demensional)"
   ]
  },
  {
   "cell_type": "code",
   "execution_count": 0,
   "metadata": {
    "collapsed": false
   },
   "outputs": [
   ],
   "source": [
   ]
  }
 ],
 "metadata": {
  "kernelspec": {
   "display_name": "Python 3 (system-wide)",
   "language": "python",
   "metadata": {
    "cocalc": {
     "description": "Python 3 programming language",
     "priority": 100,
     "url": "https://www.python.org/"
    }
   },
   "name": "python3",
   "resource_dir": "/ext/jupyter/kernels/python3"
  },
  "language_info": {
   "codemirror_mode": {
    "name": "ipython",
    "version": 3
   },
   "file_extension": ".py",
   "mimetype": "text/x-python",
   "name": "python",
   "nbconvert_exporter": "python",
   "pygments_lexer": "ipython3",
   "version": "3.8.10"
  }
 },
 "nbformat": 4,
 "nbformat_minor": 4
}