{
 "cells": [
  {
   "cell_type": "code",
   "execution_count": 6,
   "metadata": {
    "collapsed": false
   },
   "outputs": [
    {
     "name": "stdout",
     "output_type": "stream",
     "text": [
      "<class 'set'>\n",
      "<class 'set'>\n"
     ]
    }
   ],
   "source": [
    "# Unordered collection of unique elements = order is not maintained\n",
    "# unique collection of elements - no element can be duplicated\n",
    "# similar to dictionary\n",
    "\n",
    "# using a set function to create a empty set\n",
    "x = set()\n",
    "\n",
    "# Using curly brackets with values creates a set also ( must have values in curly brackets)\n",
    "y = {1,2,3,4}\n",
    "\n",
    "# display data type for each variable\n",
    "print(type(x))\n",
    "print(type(y))"
   ]
  },
  {
   "cell_type": "code",
   "execution_count": 8,
   "metadata": {
    "collapsed": false
   },
   "outputs": [
    {
     "name": "stdout",
     "output_type": "stream",
     "text": [
      "{2, 3, 4, 5, 7, 10, 77, 111}\n"
     ]
    }
   ],
   "source": [
    "# sets only display unique characters and not the frequency\n",
    "\n",
    "y = {111,2,3,3,10,10,4,77,7,5,7,5,5}  # notice all the duplicates\n",
    "\n",
    "print(y)  # notice only prints the character once and in order"
   ]
  },
  {
   "cell_type": "code",
   "execution_count": 14,
   "metadata": {
    "collapsed": false
   },
   "outputs": [
    {
     "name": "stdout",
     "output_type": "stream",
     "text": [
      "{1, 2, 3, 4}\n"
     ]
    }
   ],
   "source": [
    "# Using the .add() method to add elements to the set\n",
    "\n",
    "x = {1,1,2,2,3,3}\n",
    "\n",
    "x.add(4)\n",
    "x.add(4)\n",
    "\n",
    "print(x)  # will only print unique values once no duplicates"
   ]
  },
  {
   "cell_type": "code",
   "execution_count": 15,
   "metadata": {
    "collapsed": false
   },
   "outputs": [
    {
     "name": "stdout",
     "output_type": "stream",
     "text": [
      "{1, 2, 3, 4}\n",
      "Removed 4 from the set \n",
      "{1, 2, 3}\n"
     ]
    }
   ],
   "source": [
    "# how to remove element using .remove() method\n",
    "\n",
    "x = {1,1,2,2,3,3,4}\n",
    "print(x)\n",
    "\n",
    "x.remove(4)\n",
    "print(f'Removed 4 from the set \\n{x}')\n"
   ]
  },
  {
   "cell_type": "code",
   "execution_count": 16,
   "metadata": {
    "collapsed": false
   },
   "outputs": [
    {
     "name": "stdout",
     "output_type": "stream",
     "text": [
      "{1, 2, 3}\n",
      "Just cleared the set using .clear()\n",
      "set()\n"
     ]
    }
   ],
   "source": [
    "# how to remove ALL elements from a set is using the .clear() method\n",
    "\n",
    "x = {1,1,2,2,3,3}\n",
    "print(x)\n",
    "\n",
    "x.clear()\n",
    "print(f'Just cleared the set using .clear()\\n{x}')"
   ]
  },
  {
   "cell_type": "code",
   "execution_count": 17,
   "metadata": {
    "collapsed": false
   },
   "outputs": [
    {
     "name": "stdout",
     "output_type": "stream",
     "text": [
      "3\n"
     ]
    }
   ],
   "source": [
    "# able to see the total of unqiue item are in the set\n",
    "\n",
    "x = {1,1,2,2,3,3}\n",
    "\n",
    "print(len(x))"
   ]
  },
  {
   "cell_type": "code",
   "execution_count": 20,
   "metadata": {
    "collapsed": false
   },
   "outputs": [
    {
     "name": "stdout",
     "output_type": "stream",
     "text": [
      "{True, 4, 4.5, (2, 3), 'Hello'}\n"
     ]
    }
   ],
   "source": [
    "# able to add different type of data types in a set - only immutable\n",
    "# not able to add a list,dictionary or a set to a set\n",
    "\n",
    "x = {'Hello',4,True,4.5,(2,3)}\n",
    "\n",
    "print(x)"
   ]
  },
  {
   "cell_type": "code",
   "execution_count": 22,
   "metadata": {
    "collapsed": false
   },
   "outputs": [
    {
     "name": "stdout",
     "output_type": "stream",
     "text": [
      "True\n"
     ]
    }
   ],
   "source": [
    "# how to find a item in a set - using the 'in' operator\n",
    "\n",
    "x = {1,1,2,2,3,3}\n",
    "\n",
    "contains = 1 in x\n",
    "\n",
    "print(contains)"
   ]
  },
  {
   "cell_type": "code",
   "execution_count": 27,
   "metadata": {
    "collapsed": false
   },
   "outputs": [
    {
     "name": "stdout",
     "output_type": "stream",
     "text": [
      "z - {1, 2, 3, 4}\n",
      "w - {1, 2, 3, 4}\n",
      "\n",
      "x has not changed {1, 2, 4}\n",
      "and y has not changed {1, 3, 4}\n",
      "\n"
     ]
    }
   ],
   "source": [
    "# using a union to combine two sets together.\n",
    "# when combining the two set all the duplicate elements get removed\n",
    "\n",
    "x = {1,1,2,2,4}\n",
    "y = {3,3,4,4,1}\n",
    "\n",
    "z = x.union(y)  # creates a brand new set //  sets x and y do not change\n",
    "\n",
    "# | a shorter way to create a union\n",
    "\n",
    "w = x | y  # this only works with sets\n",
    "\n",
    "print(f\"\"\"z - {z}\n",
    "w - {w}\n",
    "\n",
    "x has not changed {x}\n",
    "and y has not changed {y}\n",
    "\"\"\")  # notice the sets have been unioned\n"
   ]
  },
  {
   "cell_type": "code",
   "execution_count": 2,
   "metadata": {
    "collapsed": false
   },
   "outputs": [
    {
     "name": "stdout",
     "output_type": "stream",
     "text": [
      "{1, 4}\n",
      "{1, 4}\n"
     ]
    }
   ],
   "source": [
    "# intersection of sets is an element contained in both sets\n",
    "\n",
    "x = {1,1,2,2,4}\n",
    "y = {3,3,4,4,1}\n",
    "\n",
    "z = x.intersection(y)  # set x intersect with set y | doesent matter how you put it == same results\n",
    "\n",
    "# & shortcut to intersect sets - this only works with sets\n",
    "w = x & y\n",
    "\n",
    "print(f'{z}\\n{w}')"
   ]
  },
  {
   "cell_type": "code",
   "execution_count": 7,
   "metadata": {
    "collapsed": false
   },
   "outputs": [
    {
     "name": "stdout",
     "output_type": "stream",
     "text": [
      "x.difference(y) == {2}\n",
      "y.difference(x) == {3} \n"
     ]
    }
   ],
   "source": [
    "# finding the difference of sets is finding all the elements in one set that are not contained in the other\n",
    "\n",
    "x = {1,1,2,2,4}\n",
    "y = {3,3,4,4,1}\n",
    "\n",
    "z = x.difference(y) # will print the element from x that is not in y || y elements will not be printed just x elements\n",
    "\n",
    "# - shortcut to find difference in sets = only works with sets\n",
    "w = y - x\n",
    "\n",
    "\n",
    "print(f'x.difference(y) == {z}\\ny.difference(x) == {w} ')"
   ]
  },
  {
   "cell_type": "code",
   "execution_count": 2,
   "metadata": {
    "collapsed": false
   },
   "outputs": [
    {
     "name": "stdout",
     "output_type": "stream",
     "text": [
      "{2, 3}\n",
      "{2, 3}\n"
     ]
    }
   ],
   "source": [
    "# symmetric difference - gives all the elements not shared between the two sets\n",
    "\n",
    "x = {1,1,2,2,4}\n",
    "y = {3,3,4,4,1}\n",
    "\n",
    "z = x.symmetric_difference(y)  # prints elements from both sets that are not shared\n",
    "\n",
    "# ^ shortcut to using symmetric_difference\n",
    "w = y ^ x\n",
    "print(f'{z}\\n{w}')"
   ]
  },
  {
   "cell_type": "code",
   "execution_count": 7,
   "metadata": {
    "collapsed": false
   },
   "outputs": [
    {
     "name": "stdout",
     "output_type": "stream",
     "text": [
      "before updating x {1, 2, 4}\n",
      "\n",
      "after updating set x -{1, 2, 3, 4}\n",
      "set y -{1, 3, 4}\n"
     ]
    }
   ],
   "source": [
    "# using the .update() method - modify an existing set\n",
    "\n",
    "x = {1,1,2,2,4}  # 1,2,4 x does not have 3\n",
    "y = {3,3,4,4,1}  # {1,3,4}\n",
    "print('before updating x',x)\n",
    "x.update(y)  # x gets the elements in y || y will stay the same || no variable created\n",
    "\n",
    "print(f'\\nafter updating set x -{x}\\nset y -{y}')"
   ]
  },
  {
   "cell_type": "code",
   "execution_count": 8,
   "metadata": {
    "collapsed": false
   },
   "outputs": [
    {
     "name": "stdout",
     "output_type": "stream",
     "text": [
      "{2}\n"
     ]
    }
   ],
   "source": [
    "# using difference_update() method - modify set (adding elements) with the difference of the other set\n",
    "\n",
    "x = {1,1,2,2,4}\n",
    "y = {3,3,4,4,1}\n",
    "\n",
    "x.difference_update(y)  # x will now equal whatever elements y did NOT have in its set\n",
    "print(x)\n",
    "\n"
   ]
  },
  {
   "cell_type": "code",
   "execution_count": 9,
   "metadata": {
    "collapsed": false
   },
   "outputs": [
    {
     "name": "stdout",
     "output_type": "stream",
     "text": [
      "{2, 3}\n"
     ]
    }
   ],
   "source": [
    "# using symmetric_difference_update() method - modify set to have the difference elements that both sets have with each other\n",
    "\n",
    "x = {1,1,2,2,4}\n",
    "y = {3,3,4,4,1}\n",
    "\n",
    "x.symmetric_difference_update(y) # x will now equals the different elements both sets had with eachother\n",
    "print(x)"
   ]
  },
  {
   "cell_type": "code",
   "execution_count": 14,
   "metadata": {
    "collapsed": false
   },
   "outputs": [
    {
     "name": "stdout",
     "output_type": "stream",
     "text": [
      "True\n",
      "True\n",
      "True\n",
      "False\n"
     ]
    }
   ],
   "source": [
    "# using subset and superset methods - \n",
    "# superset of abother set means that this set contains ALL of the elements and potrntially more of another set\n",
    "# subset - is the set that the superset took its elements from\n",
    "\n",
    "x = {1,2,3} # subset of y - 1,2,3 elements are in y\n",
    "y = {1,2,3,4,5,6,7} # superset of x\n",
    "\n",
    "print(x.issubset(y))\n",
    "print(y.issuperset(x))\n",
    "\n",
    "# <= issubset && >= issuperset shortcut to using subset and superset\n",
    "print(x <= y)\n",
    "print(y >= x)"
   ]
  },
  {
   "cell_type": "code",
   "execution_count": 17,
   "metadata": {
    "collapsed": false
   },
   "outputs": [
    {
     "name": "stdout",
     "output_type": "stream",
     "text": [
      "True\n",
      "True\n"
     ]
    }
   ],
   "source": [
    "# proper superset | proper subset - the set is not equal to the other set\n",
    "\n",
    "x = {1,2,3}\n",
    "y = {1,2,3,4,5,6,7,8,9}\n",
    "\n",
    "# check if y is a proper superset of x - y must contain 1 element that is not in x\n",
    "print(y > x)\n",
    "\n",
    "# check if x is a proper subset of y - y must contain ALL elements that x has\n",
    "print(x < y)"
   ]
  },
  {
   "cell_type": "code",
   "execution_count": 23,
   "metadata": {
    "collapsed": false
   },
   "outputs": [
    {
     "name": "stdout",
     "output_type": "stream",
     "text": [
      "{1, 2, 3, 4, 5, 6}\n"
     ]
    }
   ],
   "source": [
    "# how to convert something to a set\n",
    "\n",
    "x = [1,2,3,4,4,5,6,6]\n",
    "\n",
    "# get the sum of all the unique numbers in x\n",
    "\n",
    "y = set(x)\n",
    "\n",
    "print(y)"
   ]
  },
  {
   "cell_type": "code",
   "execution_count": 24,
   "metadata": {
    "cocalc": {
     "outputs": {
      "0": {
       "name": "input",
       "opts": {
        "password": false,
        "prompt": "Enter number:"
       },
       "output_type": "stream",
       "value": "2"
      },
      "1": {
       "name": "input",
       "opts": {
        "password": false,
        "prompt": "Enter number:"
       },
       "output_type": "stream",
       "value": "2"
      }
     }
    },
    "collapsed": false
   },
   "outputs": [
    {
     "name": "stdout",
     "output_type": "stream",
     "text": "Enter number: 2"
    },
    {
     "name": "stdout",
     "output_type": "stream",
     "text": "Enter number: 2"
    }
   ],
   "source": [
    "# ask the user for a list of numbers if they input a same number stop program\n",
    "x = set()\n",
    "\n",
    "while True:\n",
    "    num = int(input('Enter number:'))\n",
    "\n",
    "    if num in x:  # if number is in set then stop program\n",
    "        break\n",
    "\n",
    "    x.add(num)  # add number to set\n"
   ]
  },
  {
   "cell_type": "code",
   "execution_count": 0,
   "metadata": {
    "collapsed": false
   },
   "outputs": [
   ],
   "source": [
    "#  Set vs. Dictionary\n",
    "\n",
    "# Set is really only to be used when you care about if something exist or does not exist\n",
    "# Dictionary is used when you care if it exist and its information"
   ]
  }
 ],
 "metadata": {
  "kernelspec": {
   "display_name": "Python 3 (system-wide)",
   "language": "python",
   "metadata": {
    "cocalc": {
     "description": "Python 3 programming language",
     "priority": 100,
     "url": "https://www.python.org/"
    }
   },
   "name": "python3",
   "resource_dir": "/ext/jupyter/kernels/python3"
  },
  "language_info": {
   "codemirror_mode": {
    "name": "ipython",
    "version": 3
   },
   "file_extension": ".py",
   "mimetype": "text/x-python",
   "name": "python",
   "nbconvert_exporter": "python",
   "pygments_lexer": "ipython3",
   "version": "3.8.10"
  }
 },
 "nbformat": 4,
 "nbformat_minor": 4
}