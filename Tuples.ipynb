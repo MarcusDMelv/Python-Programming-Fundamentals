{
 "cells": [
  {
   "cell_type": "code",
   "execution_count": 2,
   "metadata": {
    "collapsed": false
   },
   "outputs": [
    {
     "name": "stdout",
     "output_type": "stream",
     "text": [
      "1\n",
      "2\n",
      "3\n"
     ]
    }
   ],
   "source": [
    "# tuh -pill or tuh-pills\n",
    "\n",
    "x = (1,2,3) # a tuple is anything in the parentheses\n",
    "print(x[0])\n",
    "print(x[1])\n",
    "print(x[-1])\n",
    "# works similar way as string and list - index"
   ]
  },
  {
   "cell_type": "code",
   "execution_count": 8,
   "metadata": {
    "collapsed": false
   },
   "outputs": [
   ],
   "source": [
    "# unlike list - not able to modify - a tuple is immutable object\n",
    "# keyword for tuple is tuple()"
   ]
  },
  {
   "cell_type": "code",
   "execution_count": 9,
   "metadata": {
    "collapsed": false
   },
   "outputs": [
    {
     "data": {
      "text/plain": [
       "3"
      ]
     },
     "execution_count": 9,
     "metadata": {
     },
     "output_type": "execute_result"
    }
   ],
   "source": [
    "x = (1,2,3)  # a collection\n",
    "len(x)  #look at the length"
   ]
  },
  {
   "cell_type": "code",
   "execution_count": 11,
   "metadata": {
    "collapsed": false
   },
   "outputs": [
    {
     "data": {
      "text/plain": [
       "2"
      ]
     },
     "execution_count": 11,
     "metadata": {
     },
     "output_type": "execute_result"
    }
   ],
   "source": [
    "# able to count\n",
    "x = (1,1,2,3)\n",
    "x.count(1)"
   ]
  },
  {
   "cell_type": "code",
   "execution_count": 12,
   "metadata": {
    "collapsed": false
   },
   "outputs": [
    {
     "data": {
      "text/plain": [
       "2"
      ]
     },
     "execution_count": 12,
     "metadata": {
     },
     "output_type": "execute_result"
    }
   ],
   "source": [
    "# search for an index of a specfic element\n",
    "x = (1,2,3)\n",
    "x.index(3)  # try access a element not in tuple you will get an error"
   ]
  },
  {
   "cell_type": "code",
   "execution_count": 15,
   "metadata": {
    "collapsed": false
   },
   "outputs": [
    {
     "name": "stdout",
     "output_type": "stream",
     "text": [
      "x = (1, 2, 3)\n",
      "2 is in x = True|5 is in x = False \n"
     ]
    }
   ],
   "source": [
    "x = (1,2,3)\n",
    "\n",
    "contains = 2 in x\n",
    "contains1 = 5 in x\n",
    "print(f'x = {x}')\n",
    "print(f'2 is in x = {contains}|5 is in x = {contains1} ')"
   ]
  },
  {
   "cell_type": "code",
   "execution_count": 16,
   "metadata": {
    "collapsed": false
   },
   "outputs": [
    {
     "name": "stdout",
     "output_type": "stream",
     "text": [
      "(1, 2, 3, (1, 2), True, [])\n"
     ]
    }
   ],
   "source": [
    "# can have tuples in tuples and a list also a boolean in a tuple\n",
    "x = (1,2,3,(1,2), True,[])  # able to put any data type in a tuple like a list\n",
    "print(x)"
   ]
  },
  {
   "cell_type": "code",
   "execution_count": 19,
   "metadata": {
    "collapsed": false
   },
   "outputs": [
    {
     "name": "stdout",
     "output_type": "stream",
     "text": [
      "2\n",
      "2\n"
     ]
    }
   ],
   "source": [
    "# Accessing nested tuples like nested lists\n",
    "x = (1,2,3,(1,2), True,[1,1,2])\n",
    "print(x[3][1])\n",
    "print(x[5][2])"
   ]
  },
  {
   "cell_type": "code",
   "execution_count": 20,
   "metadata": {
    "collapsed": false
   },
   "outputs": [
    {
     "name": "stdout",
     "output_type": "stream",
     "text": [
      "(1, 2, 3, (1, 2), True, [], 10, 4)\n",
      "(10, 4, 10, 4)\n"
     ]
    }
   ],
   "source": [
    "# multiple tuples AND add new elements to the tuple\n",
    "x = (1,2,3,(1,2), True,[])\n",
    "y = (10,4)\n",
    "combined = x + y\n",
    "print(combined)\n",
    "\n",
    "multiply = y * 2\n",
    "print(multiply)"
   ]
  },
  {
   "cell_type": "code",
   "execution_count": 21,
   "metadata": {
    "collapsed": false
   },
   "outputs": [
    {
     "name": "stdout",
     "output_type": "stream",
     "text": [
      "(1, 2, 3, 4, 5, 6)\n"
     ]
    }
   ],
   "source": [
    "# create a tuple without parenenthesis\n",
    "\n",
    "x = 1,2,3,4,5,6  # on one line define elements seperating using a comma it will automatically make it a tuple\n",
    "\n",
    "print(x)"
   ]
  },
  {
   "cell_type": "code",
   "execution_count": 23,
   "metadata": {
    "collapsed": false
   },
   "outputs": [
    {
     "name": "stdout",
     "output_type": "stream",
     "text": [
      "(1, 2)\n"
     ]
    }
   ],
   "source": [
    "# can't make a tuple out of a element UNLESS\n",
    "x = (1,)  # use paranthesis and a comma after the single element\n",
    "print(x)"
   ]
  },
  {
   "cell_type": "code",
   "execution_count": 24,
   "metadata": {
    "collapsed": false
   },
   "outputs": [
    {
     "name": "stdout",
     "output_type": "stream",
     "text": [
      "(1, 4, 3)\n"
     ]
    }
   ],
   "source": [
    "# how to change a tuple?\n",
    "x = 1,2,3\n",
    "print()\n",
    "# how to change 2 into a 4 in x\n",
    "y = x[0],4,x[2]\n",
    "\n",
    "print(y)"
   ]
  },
  {
   "cell_type": "code",
   "execution_count": 0,
   "metadata": {
    "collapsed": false
   },
   "outputs": [
   ],
   "source": [
   ]
  }
 ],
 "metadata": {
  "kernelspec": {
   "display_name": "Python 3 (system-wide)",
   "language": "python",
   "metadata": {
    "cocalc": {
     "description": "Python 3 programming language",
     "priority": 100,
     "url": "https://www.python.org/"
    }
   },
   "name": "python3",
   "resource_dir": "/ext/jupyter/kernels/python3"
  },
  "language_info": {
   "codemirror_mode": {
    "name": "ipython",
    "version": 3
   },
   "file_extension": ".py",
   "mimetype": "text/x-python",
   "name": "python",
   "nbconvert_exporter": "python",
   "pygments_lexer": "ipython3",
   "version": "3.8.10"
  }
 },
 "nbformat": 4,
 "nbformat_minor": 4
}